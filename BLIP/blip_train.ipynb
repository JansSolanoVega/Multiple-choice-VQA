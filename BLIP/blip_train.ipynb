{
 "cells": [
  {
   "cell_type": "code",
   "execution_count": 1,
   "metadata": {},
   "outputs": [
    {
     "name": "stdout",
     "output_type": "stream",
     "text": [
      "cuda\n",
      "c:\\Users\\mr_pa\\Documents\\Uni\\FoundationModels\\Multiple-choice-VQA\n",
      "reshape position embedding from 900 to 1600\n",
      "load checkpoint from https://storage.googleapis.com/sfr-vision-language-research/BLIP/models/model_base_vqa_capfilt_large.pth\n"
     ]
    }
   ],
   "source": [
    "import torch\n",
    "from torch.utils.data import DataLoader\n",
    "import torchvision.datasets as datasets\n",
    "from tqdm import tqdm\n",
    "\n",
    "device = \"cuda\" if torch.cuda.is_available() else \"cpu\"\n",
    "print(device)\n",
    "#Loading model\n",
    "import sys\n",
    "import os\n",
    "import torch\n",
    "# Get the current script's directory\n",
    "current_directory = os.getcwd()\n",
    "print(current_directory)\n",
    "library_directory = os.path.abspath(os.path.join(current_directory, 'torchVersion', 'BLIP'))\n",
    "sys.path.append(library_directory)\n",
    "from BLIP.utils.models.blip_vqa import blip_vqa\n",
    "\n",
    "model_url = 'https://storage.googleapis.com/sfr-vision-language-research/BLIP/models/model_base_vqa_capfilt_large.pth'\n",
    "#model_url = 'https://storage.googleapis.com/sfr-vision-language-research/BLIP/models/model_vqa.pth'\n",
    "\n",
    "image_size = 640\n",
    "model = blip_vqa(pretrained=model_url, image_size=image_size, vit='base')\n",
    "model = model.to(device)\n"
   ]
  },
  {
   "cell_type": "code",
   "execution_count": 2,
   "metadata": {},
   "outputs": [
    {
     "name": "stdout",
     "output_type": "stream",
     "text": [
      "BertLMHeadModel(\n",
      "  (bert): BertModel(\n",
      "    (embeddings): BertEmbeddings(\n",
      "      (word_embeddings): Embedding(30524, 768, padding_idx=0)\n",
      "      (position_embeddings): Embedding(512, 768)\n",
      "      (LayerNorm): LayerNorm((768,), eps=1e-12, elementwise_affine=True)\n",
      "      (dropout): Dropout(p=0.1, inplace=False)\n",
      "    )\n",
      "    (encoder): BertEncoder(\n",
      "      (layer): ModuleList(\n",
      "        (0-11): 12 x BertLayer(\n",
      "          (attention): BertAttention(\n",
      "            (self): BertSelfAttention(\n",
      "              (query): Linear(in_features=768, out_features=768, bias=True)\n",
      "              (key): Linear(in_features=768, out_features=768, bias=True)\n",
      "              (value): Linear(in_features=768, out_features=768, bias=True)\n",
      "              (dropout): Dropout(p=0.1, inplace=False)\n",
      "            )\n",
      "            (output): BertSelfOutput(\n",
      "              (dense): Linear(in_features=768, out_features=768, bias=True)\n",
      "              (LayerNorm): LayerNorm((768,), eps=1e-12, elementwise_affine=True)\n",
      "              (dropout): Dropout(p=0.1, inplace=False)\n",
      "            )\n",
      "          )\n",
      "          (crossattention): BertAttention(\n",
      "            (self): BertSelfAttention(\n",
      "              (query): Linear(in_features=768, out_features=768, bias=True)\n",
      "              (key): Linear(in_features=768, out_features=768, bias=True)\n",
      "              (value): Linear(in_features=768, out_features=768, bias=True)\n",
      "              (dropout): Dropout(p=0.1, inplace=False)\n",
      "            )\n",
      "            (output): BertSelfOutput(\n",
      "              (dense): Linear(in_features=768, out_features=768, bias=True)\n",
      "              (LayerNorm): LayerNorm((768,), eps=1e-12, elementwise_affine=True)\n",
      "              (dropout): Dropout(p=0.1, inplace=False)\n",
      "            )\n",
      "          )\n",
      "          (intermediate): BertIntermediate(\n",
      "            (dense): Linear(in_features=768, out_features=3072, bias=True)\n",
      "            (intermediate_act_fn): GELUActivation()\n",
      "          )\n",
      "          (output): BertOutput(\n",
      "            (dense): Linear(in_features=3072, out_features=768, bias=True)\n",
      "            (LayerNorm): LayerNorm((768,), eps=1e-12, elementwise_affine=True)\n",
      "            (dropout): Dropout(p=0.1, inplace=False)\n",
      "          )\n",
      "        )\n",
      "      )\n",
      "    )\n",
      "  )\n",
      "  (cls): BertOnlyMLMHead(\n",
      "    (predictions): BertLMPredictionHead(\n",
      "      (transform): BertPredictionHeadTransform(\n",
      "        (dense): Linear(in_features=768, out_features=768, bias=True)\n",
      "        (transform_act_fn): GELUActivation()\n",
      "        (LayerNorm): LayerNorm((768,), eps=1e-12, elementwise_affine=True)\n",
      "      )\n",
      "      (decoder): Linear(in_features=768, out_features=30524, bias=True)\n",
      "    )\n",
      "  )\n",
      ")\n"
     ]
    }
   ],
   "source": [
    "print(model.text_decoder)"
   ]
  },
  {
   "cell_type": "code",
   "execution_count": 2,
   "metadata": {},
   "outputs": [],
   "source": [
    "import sys\n",
    "sys.path.append('../')  # Adjust the path accordingly\n",
    "from VQA_Dataset_BLIP import VQA_Dataset_preloaded_TorchVersion,VQA_Dataset_preloaded_alternativ\n",
    "\n",
    "dataset_train = VQA_Dataset_preloaded_alternativ(device, image_size=image_size)#, folder_path=\"E:/\")\n",
    "dataset_val = VQA_Dataset_preloaded_alternativ(device, image_size=image_size)"
   ]
  },
  {
   "cell_type": "code",
   "execution_count": 3,
   "metadata": {},
   "outputs": [
    {
     "name": "stdout",
     "output_type": "stream",
     "text": [
      "H:/FoundationModels/embeddingsBLIPrealMcImageSize640_125k_capfilt_train.h5\n",
      "H:/FoundationModels/embeddingsBLIPrealMcImageSize640_40k_capfilt_val.h5\n"
     ]
    }
   ],
   "source": [
    "#dataset_train.load(fileName=\"Blip_abstract_full.h5\")\n",
    "dataset_train.load(fileName=\"embeddingsBLIPrealMcImageSize640_125k_capfilt_train.h5\")\n",
    "dataset_val.load(fileName=\"embeddingsBLIPrealMcImageSize640_40k_capfilt_val.h5\", length=4285)"
   ]
  },
  {
   "cell_type": "code",
   "execution_count": 4,
   "metadata": {},
   "outputs": [
    {
     "name": "stdout",
     "output_type": "stream",
     "text": [
      "Train size:  100\n",
      "Test size:  3000\n",
      "Val size:  1285\n"
     ]
    }
   ],
   "source": [
    "\"\"\"\n",
    "def custom_collate_fn(batch):\n",
    "    # 'batch' is a list of samples, each being a dictionary\n",
    "    return batch\n",
    "\"\"\"\n",
    "from torch.utils.data import random_split\n",
    "import matplotlib.pyplot as plt\n",
    "import numpy as np\n",
    "\n",
    "train_size = int(len(dataset_train))\n",
    "val_size = int(len(dataset_val)*0.3)\n",
    "test_size = int(len(dataset_val))-val_size\n",
    "generator = torch.Generator().manual_seed(42)\n",
    "test_dataset, val_dataset = random_split(dataset_val, [test_size, val_size], generator=generator)\n",
    "print(\"Train size: \", train_size)\n",
    "print(\"Test size: \", test_size)\n",
    "print(\"Val size: \", val_size)\n",
    "\n",
    "batch_size=2\n",
    "train_dataloader = DataLoader(dataset_train, batch_size=batch_size, shuffle=True)#, collate_fn=custom_collate_fn)\n",
    "test_dataloader = DataLoader(test_dataset, batch_size=batch_size, shuffle=False)#, collate_fn=custom_collate_fn)\n",
    "val_dataloader = DataLoader(val_dataset, batch_size=batch_size, shuffle=False)#, collate_fn=custom_collate_fn)\n"
   ]
  },
  {
   "cell_type": "code",
   "execution_count": 3,
   "metadata": {},
   "outputs": [
    {
     "ename": "AttributeError",
     "evalue": "'VQA_Dataset_preloaded_alternativ' object has no attribute 'length'",
     "output_type": "error",
     "traceback": [
      "\u001b[1;31m---------------------------------------------------------------------------\u001b[0m",
      "\u001b[1;31mAttributeError\u001b[0m                            Traceback (most recent call last)",
      "Cell \u001b[1;32mIn[3], line 5\u001b[0m\n\u001b[0;32m      2\u001b[0m \u001b[38;5;28;01mimport\u001b[39;00m \u001b[38;5;21;01mmatplotlib\u001b[39;00m\u001b[38;5;21;01m.\u001b[39;00m\u001b[38;5;21;01mpyplot\u001b[39;00m \u001b[38;5;28;01mas\u001b[39;00m \u001b[38;5;21;01mplt\u001b[39;00m\n\u001b[0;32m      3\u001b[0m \u001b[38;5;28;01mimport\u001b[39;00m \u001b[38;5;21;01mnumpy\u001b[39;00m \u001b[38;5;28;01mas\u001b[39;00m \u001b[38;5;21;01mnp\u001b[39;00m\n\u001b[1;32m----> 5\u001b[0m train_size \u001b[38;5;241m=\u001b[39m \u001b[38;5;28mint\u001b[39m(\u001b[38;5;28;43mlen\u001b[39;49m\u001b[43m(\u001b[49m\u001b[43mdataset_train\u001b[49m\u001b[43m)\u001b[49m\u001b[38;5;241m*\u001b[39m\u001b[38;5;241m0.7\u001b[39m)\n\u001b[0;32m      6\u001b[0m val_size \u001b[38;5;241m=\u001b[39m \u001b[38;5;28mint\u001b[39m(\u001b[38;5;28mlen\u001b[39m(dataset_train)\u001b[38;5;241m*\u001b[39m\u001b[38;5;241m0.2\u001b[39m)\n\u001b[0;32m      7\u001b[0m test_size \u001b[38;5;241m=\u001b[39m \u001b[38;5;28mint\u001b[39m(\u001b[38;5;28mlen\u001b[39m(dataset_train))\u001b[38;5;241m-\u001b[39mtrain_size\u001b[38;5;241m-\u001b[39mval_size\n",
      "File \u001b[1;32mc:\\Users\\mr_pa\\Documents\\Uni\\FoundationModels\\Multiple-choice-VQA\\VQA_Dataset_BLIP.py:391\u001b[0m, in \u001b[0;36mVQA_Dataset_preloaded_alternativ.__len__\u001b[1;34m(self)\u001b[0m\n\u001b[0;32m    390\u001b[0m \u001b[38;5;28;01mdef\u001b[39;00m \u001b[38;5;21m__len__\u001b[39m(\u001b[38;5;28mself\u001b[39m):\n\u001b[1;32m--> 391\u001b[0m     \u001b[38;5;28;01mreturn\u001b[39;00m \u001b[38;5;28;43mself\u001b[39;49m\u001b[38;5;241;43m.\u001b[39;49m\u001b[43mlength\u001b[49m\n",
      "\u001b[1;31mAttributeError\u001b[0m: 'VQA_Dataset_preloaded_alternativ' object has no attribute 'length'"
     ]
    }
   ],
   "source": [
    "from torch.utils.data import random_split\n",
    "import matplotlib.pyplot as plt\n",
    "import numpy as np\n",
    "\n",
    "train_size = int(len(dataset_train)*0.7)\n",
    "val_size = int(len(dataset_train)*0.2)\n",
    "test_size = int(len(dataset_train))-train_size-val_size\n",
    "generator = torch.Generator().manual_seed(1)\n",
    "train_dataset, val_dataset, test_dataset = random_split(dataset_train, [train_size, val_size, test_size], generator=generator)\n",
    "print(\"Train size: \", train_size)\n",
    "print(\"Test size: \", test_size)\n",
    "print(\"Val size: \", val_size)\n",
    "batch_size=2\n",
    "train_dataloader = DataLoader(train_dataset, batch_size=batch_size, shuffle=True)#, collate_fn=custom_collate_fn)\n",
    "val_dataloader = DataLoader(val_dataset, batch_size=batch_size, shuffle=False)#, collate_fn=custom_collate_fn)\n",
    "test_dataloader = DataLoader(test_dataset, batch_size=batch_size, shuffle=False)#, collate_fn=custom_collate_fn)"
   ]
  },
  {
   "cell_type": "code",
   "execution_count": 5,
   "metadata": {},
   "outputs": [],
   "source": [
    "#Freezing all layers except MLP\n",
    "number_of_last_trainable_layers = 1\n",
    "N_BLIP = 11\n",
    "\n",
    "def containsLastLayers(name):\n",
    "    val = False\n",
    "    for layer in list(range(N_BLIP-number_of_last_trainable_layers,N_BLIP+1)):\n",
    "        if str(layer) in name:\n",
    "            val = True\n",
    "            break\n",
    "    return val\n",
    "\n",
    "# Freeze all layers\n",
    "for param in model.parameters():\n",
    "    param.requires_grad = False\n",
    "\n",
    "# Keeping Visual encoder MLPs\n",
    "\"\"\"\n",
    "for name, param in model.visual_encoder.named_parameters():\n",
    "    if \"mlp\" in name and containsLastLayers(name):\n",
    "        param.requires_grad = True\n",
    "\"\"\"\n",
    "#Keeping FFNN from Image-grounded text encoder\n",
    "for name, param in model.text_encoder.named_parameters():\n",
    "    if \"attention\" not in name and \"crossattention\" not in name and \"embeddings\" not in name and containsLastLayers(name):\n",
    "        param.requires_grad = True\n",
    "\n",
    "#Keeping FFNN from Answer decoder\n",
    "for name, param in model.text_decoder.named_parameters():\n",
    "    if \"attention\" not in name and \"crossattention\" not in name and \"embeddings\" not in name and containsLastLayers(name):\n",
    "        param.requires_grad = True"
   ]
  },
  {
   "cell_type": "code",
   "execution_count": 6,
   "metadata": {},
   "outputs": [],
   "source": [
    "# Freeze all layers\n",
    "for param in model.parameters():\n",
    "    param.requires_grad = False\n",
    "\n",
    "# Unfreeze the parameters of the last block in the encoder\n",
    "for name, param in model.text_encoder.encoder.layer[-1].named_parameters():\n",
    "    param.requires_grad = True\n",
    "    \n",
    "# Unfreeze MLM head for fine-tuning\n",
    "for param in model.text_decoder.cls.parameters():\n",
    "    param.requires_grad = True\n",
    "\n"
   ]
  },
  {
   "cell_type": "code",
   "execution_count": 12,
   "metadata": {},
   "outputs": [
    {
     "name": "stdout",
     "output_type": "stream",
     "text": [
      "length of encoder:  12\n"
     ]
    }
   ],
   "source": [
    "# Freeze all layers\n",
    "for param in model.parameters():\n",
    "    param.requires_grad = False\n",
    "\n",
    "# Specify the number of layers you want to unfreeze\n",
    "n = 2  # Replace with the desired number of layers\n",
    "\"\"\"\n",
    "for layer in model.text_decoder.bert.encoder.layer[-n:]:\n",
    "    for name, param in layer.named_parameters():\n",
    "        param.requires_grad = True\n",
    "\n",
    "# Unfreeze parameters of the last n layers in the MLM head\n",
    "for name, param in model.text_decoder.cls.predictions.transform.named_parameters():\n",
    "    param.requires_grad = True\n",
    "\n",
    "for name, param in model.text_decoder.cls.predictions.decoder.named_parameters():\n",
    "    param.requires_grad = True\n",
    "\"\"\"\n",
    "print(\"length of encoder: \", len(model.text_encoder.encoder.layer))\n",
    "for name, param in model.text_encoder.encoder.layer[-n:].named_parameters():\n",
    "    param.requires_grad = True\n"
   ]
  },
  {
   "cell_type": "code",
   "execution_count": 6,
   "metadata": {},
   "outputs": [],
   "source": [
    "def checkpoint(model, filename, additional=\"\"):\n",
    "    folder_path = os.path.join(\"runs\", \"best_model\", additional)\n",
    "    if not os.path.exists(folder_path):\n",
    "        os.makedirs(folder_path)\n",
    "    torch.save(model.state_dict(), os.path.join(folder_path, filename))\n",
    "    \n",
    "def resume(model, filename, additional=\"\"):\n",
    "    model.load_state_dict(torch.load(os.path.join(\"runs\", \"best_model\",additional, filename)))"
   ]
  },
  {
   "cell_type": "code",
   "execution_count": 7,
   "metadata": {},
   "outputs": [],
   "source": [
    "import tqdm\n",
    "\n",
    "def train(dataloader, vqa_model,val_dataloader, optimizer, epochs, scheduler, patience=3):\n",
    "    size = len(dataloader.dataset)\n",
    "    vqa_model.train()\n",
    "    best_accuracy = 0\n",
    "    best_epoch = 0\n",
    "\n",
    "    for epoch in range(epochs):\n",
    "        for img_b, question_input_ids_b, question_attention_mask_b, multiple_answers_input_ids_b, multiple_answers_attention_mask_b, correct_answers_input_ids_b, correct_answers_attention_mask_b in tqdm.tqdm(dataloader):    \n",
    "            for i in range(batch_size):     \n",
    "                #question = batch[i][\"questions\"]\n",
    "                #img = batch[i][\"imgs\"]\n",
    "                #correct_answer = batch[i][\"correct_answers\"]\n",
    "                optimizer.zero_grad() \n",
    "                img =img_b[i].unsqueeze(0)\n",
    "                question_input_ids = question_input_ids_b[i].unsqueeze(0)\n",
    "                question_attention_mask = question_attention_mask_b[i].unsqueeze(0)\n",
    "                correct_answers_input_ids = correct_answers_input_ids_b[i].unsqueeze(0)\n",
    "                correct_answers_attention_mask = correct_answers_attention_mask_b[i].unsqueeze(0)\n",
    "                loss = model(img, question_input_ids, question_attention_mask, answers_input_ids=correct_answers_input_ids, answers_attention_mask = correct_answers_attention_mask, n=[1], train=True, weights=torch.tensor([1]).to(device))\n",
    "\n",
    "                #loss = model(img_b[i], question_input_ids_b[i], question_attention_mask_b[i], answers_input_ids=correct_answers_input_ids_b[i], answers_attention_mask = correct_answers_attention_mask_b[i], n=[1], train=True, weights=torch.tensor([1]).to(device))\n",
    "                \n",
    "                loss.backward()\n",
    "                #torch.nn.utils.clip_grad_norm_(vqa_model.parameters(), max_norm=clip_value, error_if_nonfinite=True)\n",
    "                optimizer.step()\n",
    "    \n",
    "        acc = eval(val_dataloader, model, epoch)\n",
    "        print(f\"Epoch {epoch}: Accuracy: {acc}, Loss: {loss.item()}\")\n",
    "        scheduler.step()\n",
    "        if acc>best_accuracy:\n",
    "            best_accuracy = acc\n",
    "            best_epoch = epoch\n",
    "            checkpoint(model, \"best_model_v11_abstract_2l.pth\")\n",
    "        elif (epoch-best_epoch) > patience:\n",
    "            print(\"--Early stopped training--\")\n",
    "            break"
   ]
  },
  {
   "cell_type": "code",
   "execution_count": 8,
   "metadata": {},
   "outputs": [],
   "source": [
    "import tqdm\n",
    "def eval(dataloader, model, epoch, mode=\"Val\"):\n",
    "    size = len(dataloader.dataset)\n",
    "    model.eval()\n",
    "    correct = 0\n",
    "    \n",
    "    pbar = tqdm.tqdm(dataloader)\n",
    "    \n",
    "    for img_b, question_input_ids_b, question_attention_mask_b, multiple_answers_input_ids_b, multiple_answers_attention_mask_b, correct_answers_input_ids_b, correct_answers_attention_mask_b in pbar:\n",
    "        #for i in range(batch_size): \n",
    "        \"\"\"\"    \n",
    "        question = element[i][\"questions\"]\n",
    "        img = element[i][\"imgs\"]\n",
    "        multiple_answers = element[i][\"multiple_answers\"]\n",
    "        correct_answer = element[i][\"correct_answers\"]\n",
    "        \n",
    "        img = img_b[i].unsqueeze(0)\n",
    "        question_input_ids = question_input_ids_b[i].unsqueeze(0)\n",
    "        question_attention_mask = question_attention_mask_b[i].unsqueeze(0)\n",
    "        multiple_answers_input_ids = multiple_answers_input_ids_b[i]\n",
    "        multiple_answers_attention_mask = multiple_answers_attention_mask_b[i]\n",
    "        correct_answers_input_ids = correct_answers_input_ids_b[i].unsqueeze(0)\n",
    "        correct_answers_attention_mask = correct_answers_attention_mask_b[i].unsqueeze(0)\n",
    "        \"\"\"\n",
    "        with torch.no_grad():\n",
    "            idx = model(img_b, question_input_ids_b, question_attention_mask_b, answers_input_ids=multiple_answers_input_ids_b, answers_attention_mask = multiple_answers_attention_mask_b, train=False, inference='rank_compressed', k_test=18).to(device)\n",
    "            # idx is shape [b]\n",
    "            #print(idx.shape)\n",
    "            # predicted answer is shape [b, len_ids]\n",
    "            # multiple_answers_input_ids_b is shape [b,k, len_ids] -> get [b, len_ids] with the index respective to idx\n",
    "            predicted_answer = multiple_answers_input_ids_b[torch.arange(multiple_answers_input_ids_b.size(0)), idx]\n",
    "            #print(\"pred\",predicted_answer.shape)\n",
    "            # add for each in batch 30523\n",
    "            \n",
    "            predicted_answer[:,0] = 30523\n",
    "            correct_answer = correct_answers_input_ids_b\n",
    "            #print(f\"Predicted: {predicted_answer}, Correct: {correct_answer}\") \n",
    "            #print(\"correct\",correct_answer.shape)\n",
    "            #print(\"pred\",predicted_answer.shape) \n",
    "            if correct_answer.shape[0]==1:\n",
    "                correct += int(np.array_equal(correct_answer.detach().cpu().numpy(), predicted_answer.detach().cpu().numpy()))\n",
    "            else:\n",
    "                for i in range(batch_size):\n",
    "                    \n",
    "                    correct += int(np.array_equal(correct_answer[i].detach().cpu().numpy(), predicted_answer[i].detach().cpu().numpy()))\n",
    "                    #print(\"e+\",int(np.array_equal(correct_answer[i].detach().cpu().numpy(), predicted_answer[i].detach().cpu().numpy())))\n",
    "    correct /= size\n",
    "\n",
    "    #Ploting results\n",
    "    \n",
    "    return 100*correct"
   ]
  },
  {
   "cell_type": "code",
   "execution_count": 10,
   "metadata": {},
   "outputs": [
    {
     "name": "stderr",
     "output_type": "stream",
     "text": [
      "100%|██████████| 10500/10500 [42:50<00:00,  4.09it/s]\n",
      "100%|██████████| 3000/3000 [10:19<00:00,  4.84it/s]\n"
     ]
    },
    {
     "name": "stdout",
     "output_type": "stream",
     "text": [
      "Epoch 0: Accuracy: 32.46666666666667, Loss: 3.0425052642822266\n"
     ]
    },
    {
     "name": "stderr",
     "output_type": "stream",
     "text": [
      "100%|██████████| 10500/10500 [41:29<00:00,  4.22it/s]\n",
      "100%|██████████| 3000/3000 [10:18<00:00,  4.85it/s]\n"
     ]
    },
    {
     "name": "stdout",
     "output_type": "stream",
     "text": [
      "Epoch 1: Accuracy: 46.21666666666667, Loss: 9.064777374267578\n"
     ]
    },
    {
     "name": "stderr",
     "output_type": "stream",
     "text": [
      "100%|██████████| 10500/10500 [41:36<00:00,  4.21it/s]\n",
      "100%|██████████| 3000/3000 [10:23<00:00,  4.81it/s]\n"
     ]
    },
    {
     "name": "stdout",
     "output_type": "stream",
     "text": [
      "Epoch 2: Accuracy: 50.949999999999996, Loss: 3.0463974475860596\n"
     ]
    },
    {
     "name": "stderr",
     "output_type": "stream",
     "text": [
      "100%|██████████| 10500/10500 [41:38<00:00,  4.20it/s]\n",
      "100%|██████████| 3000/3000 [10:15<00:00,  4.88it/s]\n"
     ]
    },
    {
     "name": "stdout",
     "output_type": "stream",
     "text": [
      "Epoch 3: Accuracy: 53.98333333333334, Loss: 2.9360811710357666\n"
     ]
    },
    {
     "name": "stderr",
     "output_type": "stream",
     "text": [
      "100%|██████████| 10500/10500 [41:40<00:00,  4.20it/s]\n",
      "100%|██████████| 3000/3000 [10:15<00:00,  4.87it/s]\n"
     ]
    },
    {
     "name": "stdout",
     "output_type": "stream",
     "text": [
      "Epoch 4: Accuracy: 55.016666666666666, Loss: 5.024870872497559\n"
     ]
    },
    {
     "name": "stderr",
     "output_type": "stream",
     "text": [
      "100%|██████████| 10500/10500 [41:34<00:00,  4.21it/s]\n",
      "100%|██████████| 3000/3000 [10:18<00:00,  4.85it/s]\n"
     ]
    },
    {
     "name": "stdout",
     "output_type": "stream",
     "text": [
      "Epoch 5: Accuracy: 55.300000000000004, Loss: 4.852598667144775\n"
     ]
    },
    {
     "name": "stderr",
     "output_type": "stream",
     "text": [
      "100%|██████████| 10500/10500 [41:32<00:00,  4.21it/s]\n",
      "100%|██████████| 3000/3000 [10:19<00:00,  4.84it/s]\n"
     ]
    },
    {
     "name": "stdout",
     "output_type": "stream",
     "text": [
      "Epoch 6: Accuracy: 55.300000000000004, Loss: 4.262328624725342\n"
     ]
    },
    {
     "name": "stderr",
     "output_type": "stream",
     "text": [
      "100%|██████████| 10500/10500 [41:33<00:00,  4.21it/s]\n",
      "100%|██████████| 3000/3000 [10:19<00:00,  4.84it/s]\n"
     ]
    },
    {
     "name": "stdout",
     "output_type": "stream",
     "text": [
      "Epoch 7: Accuracy: 55.333333333333336, Loss: 3.0011751651763916\n"
     ]
    },
    {
     "name": "stderr",
     "output_type": "stream",
     "text": [
      "100%|██████████| 10500/10500 [41:33<00:00,  4.21it/s]\n",
      "100%|██████████| 3000/3000 [10:17<00:00,  4.86it/s]\n"
     ]
    },
    {
     "name": "stdout",
     "output_type": "stream",
     "text": [
      "Epoch 8: Accuracy: 55.333333333333336, Loss: 5.480313301086426\n"
     ]
    },
    {
     "name": "stderr",
     "output_type": "stream",
     "text": [
      "100%|██████████| 10500/10500 [41:34<00:00,  4.21it/s]\n",
      "100%|██████████| 3000/3000 [10:16<00:00,  4.86it/s]\n"
     ]
    },
    {
     "name": "stdout",
     "output_type": "stream",
     "text": [
      "Epoch 9: Accuracy: 55.35, Loss: 5.4341721534729\n"
     ]
    },
    {
     "name": "stderr",
     "output_type": "stream",
     "text": [
      "100%|██████████| 10500/10500 [41:40<00:00,  4.20it/s]\n",
      "100%|██████████| 3000/3000 [10:17<00:00,  4.86it/s]\n"
     ]
    },
    {
     "name": "stdout",
     "output_type": "stream",
     "text": [
      "Epoch 10: Accuracy: 55.36666666666667, Loss: 9.419265747070312\n"
     ]
    },
    {
     "name": "stderr",
     "output_type": "stream",
     "text": [
      "100%|██████████| 10500/10500 [41:31<00:00,  4.21it/s]\n",
      "100%|██████████| 3000/3000 [10:18<00:00,  4.85it/s]\n"
     ]
    },
    {
     "name": "stdout",
     "output_type": "stream",
     "text": [
      "Epoch 11: Accuracy: 55.36666666666667, Loss: 4.379547119140625\n"
     ]
    },
    {
     "name": "stderr",
     "output_type": "stream",
     "text": [
      "100%|██████████| 10500/10500 [41:31<00:00,  4.21it/s]\n",
      "100%|██████████| 3000/3000 [10:20<00:00,  4.83it/s]\n"
     ]
    },
    {
     "name": "stdout",
     "output_type": "stream",
     "text": [
      "Epoch 12: Accuracy: 55.36666666666667, Loss: 3.5020928382873535\n"
     ]
    },
    {
     "name": "stderr",
     "output_type": "stream",
     "text": [
      " 48%|████▊     | 5049/10500 [20:03<21:39,  4.19it/s]\n"
     ]
    },
    {
     "ename": "KeyboardInterrupt",
     "evalue": "",
     "output_type": "error",
     "traceback": [
      "\u001b[1;31m---------------------------------------------------------------------------\u001b[0m",
      "\u001b[1;31mKeyboardInterrupt\u001b[0m                         Traceback (most recent call last)",
      "Cell \u001b[1;32mIn[10], line 6\u001b[0m\n\u001b[0;32m      3\u001b[0m optimizer \u001b[38;5;241m=\u001b[39m torch\u001b[38;5;241m.\u001b[39moptim\u001b[38;5;241m.\u001b[39mAdam(model\u001b[38;5;241m.\u001b[39mparameters(), lr\u001b[38;5;241m=\u001b[39m\u001b[38;5;241m1e-3\u001b[39m)\n\u001b[0;32m      4\u001b[0m scheduler \u001b[38;5;241m=\u001b[39m lr_scheduler\u001b[38;5;241m.\u001b[39mStepLR(optimizer, step_size\u001b[38;5;241m=\u001b[39m\u001b[38;5;241m2\u001b[39m, gamma\u001b[38;5;241m=\u001b[39m\u001b[38;5;241m0.1\u001b[39m)  \u001b[38;5;66;03m# Adjust the step_size and gamma accordingly\u001b[39;00m\n\u001b[1;32m----> 6\u001b[0m \u001b[43mtrain\u001b[49m\u001b[43m(\u001b[49m\u001b[43mtrain_dataloader\u001b[49m\u001b[43m,\u001b[49m\u001b[43m \u001b[49m\u001b[43mmodel\u001b[49m\u001b[43m,\u001b[49m\u001b[43m \u001b[49m\u001b[43mval_dataloader\u001b[49m\u001b[43m,\u001b[49m\u001b[43m \u001b[49m\u001b[43moptimizer\u001b[49m\u001b[43m,\u001b[49m\u001b[43m \u001b[49m\u001b[38;5;241;43m50\u001b[39;49m\u001b[43m,\u001b[49m\u001b[43m \u001b[49m\u001b[43mscheduler\u001b[49m\u001b[43m,\u001b[49m\u001b[43m \u001b[49m\u001b[43mpatience\u001b[49m\u001b[38;5;241;43m=\u001b[39;49m\u001b[38;5;241;43m3\u001b[39;49m\u001b[43m)\u001b[49m\n",
      "Cell \u001b[1;32mIn[7], line 21\u001b[0m, in \u001b[0;36mtrain\u001b[1;34m(dataloader, vqa_model, val_dataloader, optimizer, epochs, scheduler, patience)\u001b[0m\n\u001b[0;32m     19\u001b[0m correct_answers_input_ids \u001b[38;5;241m=\u001b[39m correct_answers_input_ids_b[i]\u001b[38;5;241m.\u001b[39munsqueeze(\u001b[38;5;241m0\u001b[39m)\n\u001b[0;32m     20\u001b[0m correct_answers_attention_mask \u001b[38;5;241m=\u001b[39m correct_answers_attention_mask_b[i]\u001b[38;5;241m.\u001b[39munsqueeze(\u001b[38;5;241m0\u001b[39m)\n\u001b[1;32m---> 21\u001b[0m loss \u001b[38;5;241m=\u001b[39m \u001b[43mmodel\u001b[49m\u001b[43m(\u001b[49m\u001b[43mimg\u001b[49m\u001b[43m,\u001b[49m\u001b[43m \u001b[49m\u001b[43mquestion_input_ids\u001b[49m\u001b[43m,\u001b[49m\u001b[43m \u001b[49m\u001b[43mquestion_attention_mask\u001b[49m\u001b[43m,\u001b[49m\u001b[43m \u001b[49m\u001b[43manswers_input_ids\u001b[49m\u001b[38;5;241;43m=\u001b[39;49m\u001b[43mcorrect_answers_input_ids\u001b[49m\u001b[43m,\u001b[49m\u001b[43m \u001b[49m\u001b[43manswers_attention_mask\u001b[49m\u001b[43m \u001b[49m\u001b[38;5;241;43m=\u001b[39;49m\u001b[43m \u001b[49m\u001b[43mcorrect_answers_attention_mask\u001b[49m\u001b[43m,\u001b[49m\u001b[43m \u001b[49m\u001b[43mn\u001b[49m\u001b[38;5;241;43m=\u001b[39;49m\u001b[43m[\u001b[49m\u001b[38;5;241;43m1\u001b[39;49m\u001b[43m]\u001b[49m\u001b[43m,\u001b[49m\u001b[43m \u001b[49m\u001b[43mtrain\u001b[49m\u001b[38;5;241;43m=\u001b[39;49m\u001b[38;5;28;43;01mTrue\u001b[39;49;00m\u001b[43m,\u001b[49m\u001b[43m \u001b[49m\u001b[43mweights\u001b[49m\u001b[38;5;241;43m=\u001b[39;49m\u001b[43mtorch\u001b[49m\u001b[38;5;241;43m.\u001b[39;49m\u001b[43mtensor\u001b[49m\u001b[43m(\u001b[49m\u001b[43m[\u001b[49m\u001b[38;5;241;43m1\u001b[39;49m\u001b[43m]\u001b[49m\u001b[43m)\u001b[49m\u001b[38;5;241;43m.\u001b[39;49m\u001b[43mto\u001b[49m\u001b[43m(\u001b[49m\u001b[43mdevice\u001b[49m\u001b[43m)\u001b[49m\u001b[43m)\u001b[49m\n\u001b[0;32m     23\u001b[0m \u001b[38;5;66;03m#loss = model(img_b[i], question_input_ids_b[i], question_attention_mask_b[i], answers_input_ids=correct_answers_input_ids_b[i], answers_attention_mask = correct_answers_attention_mask_b[i], n=[1], train=True, weights=torch.tensor([1]).to(device))\u001b[39;00m\n\u001b[0;32m     25\u001b[0m loss\u001b[38;5;241m.\u001b[39mbackward()\n",
      "File \u001b[1;32mc:\\Users\\mr_pa\\AppData\\Local\\Programs\\Python\\Python310\\lib\\site-packages\\torch\\nn\\modules\\module.py:1501\u001b[0m, in \u001b[0;36mModule._call_impl\u001b[1;34m(self, *args, **kwargs)\u001b[0m\n\u001b[0;32m   1496\u001b[0m \u001b[38;5;66;03m# If we don't have any hooks, we want to skip the rest of the logic in\u001b[39;00m\n\u001b[0;32m   1497\u001b[0m \u001b[38;5;66;03m# this function, and just call forward.\u001b[39;00m\n\u001b[0;32m   1498\u001b[0m \u001b[38;5;28;01mif\u001b[39;00m \u001b[38;5;129;01mnot\u001b[39;00m (\u001b[38;5;28mself\u001b[39m\u001b[38;5;241m.\u001b[39m_backward_hooks \u001b[38;5;129;01mor\u001b[39;00m \u001b[38;5;28mself\u001b[39m\u001b[38;5;241m.\u001b[39m_backward_pre_hooks \u001b[38;5;129;01mor\u001b[39;00m \u001b[38;5;28mself\u001b[39m\u001b[38;5;241m.\u001b[39m_forward_hooks \u001b[38;5;129;01mor\u001b[39;00m \u001b[38;5;28mself\u001b[39m\u001b[38;5;241m.\u001b[39m_forward_pre_hooks\n\u001b[0;32m   1499\u001b[0m         \u001b[38;5;129;01mor\u001b[39;00m _global_backward_pre_hooks \u001b[38;5;129;01mor\u001b[39;00m _global_backward_hooks\n\u001b[0;32m   1500\u001b[0m         \u001b[38;5;129;01mor\u001b[39;00m _global_forward_hooks \u001b[38;5;129;01mor\u001b[39;00m _global_forward_pre_hooks):\n\u001b[1;32m-> 1501\u001b[0m     \u001b[38;5;28;01mreturn\u001b[39;00m forward_call(\u001b[38;5;241m*\u001b[39margs, \u001b[38;5;241m*\u001b[39m\u001b[38;5;241m*\u001b[39mkwargs)\n\u001b[0;32m   1502\u001b[0m \u001b[38;5;66;03m# Do not call functions when jit is used\u001b[39;00m\n\u001b[0;32m   1503\u001b[0m full_backward_hooks, non_full_backward_hooks \u001b[38;5;241m=\u001b[39m [], []\n",
      "File \u001b[1;32mc:\\Users\\mr_pa\\Documents\\Uni\\FoundationModels\\Multiple-choice-VQA\\torchVersion\\BLIP\\models\\blip_vqa.py:125\u001b[0m, in \u001b[0;36mBLIP_VQA.forward\u001b[1;34m(self, image, question_input_ids, question_attention_mask, answers_input_ids, answers_attention_mask, n, weights, train, inference, k_test)\u001b[0m\n\u001b[0;32m    123\u001b[0m \u001b[38;5;28;01mdef\u001b[39;00m \u001b[38;5;21mforward\u001b[39m(\u001b[38;5;28mself\u001b[39m, image, question_input_ids, question_attention_mask, answers_input_ids\u001b[38;5;241m=\u001b[39m\u001b[38;5;28;01mNone\u001b[39;00m, answers_attention_mask\u001b[38;5;241m=\u001b[39m\u001b[38;5;28;01mNone\u001b[39;00m, n\u001b[38;5;241m=\u001b[39m\u001b[38;5;28;01mNone\u001b[39;00m, weights\u001b[38;5;241m=\u001b[39m\u001b[38;5;28;01mNone\u001b[39;00m, train\u001b[38;5;241m=\u001b[39m\u001b[38;5;28;01mTrue\u001b[39;00m, inference\u001b[38;5;241m=\u001b[39m\u001b[38;5;124m'\u001b[39m\u001b[38;5;124mrank\u001b[39m\u001b[38;5;124m'\u001b[39m, k_test\u001b[38;5;241m=\u001b[39m\u001b[38;5;241m128\u001b[39m):\n\u001b[0;32m    124\u001b[0m     image_embeds \u001b[38;5;241m=\u001b[39m \u001b[38;5;28mself\u001b[39m\u001b[38;5;241m.\u001b[39mvisual_encoder(image) \n\u001b[1;32m--> 125\u001b[0m     image_atts \u001b[38;5;241m=\u001b[39m \u001b[43mtorch\u001b[49m\u001b[38;5;241;43m.\u001b[39;49m\u001b[43mones\u001b[49m\u001b[43m(\u001b[49m\u001b[43mimage_embeds\u001b[49m\u001b[38;5;241;43m.\u001b[39;49m\u001b[43msize\u001b[49m\u001b[43m(\u001b[49m\u001b[43m)\u001b[49m\u001b[43m[\u001b[49m\u001b[43m:\u001b[49m\u001b[38;5;241;43m-\u001b[39;49m\u001b[38;5;241;43m1\u001b[39;49m\u001b[43m]\u001b[49m\u001b[43m,\u001b[49m\u001b[43mdtype\u001b[49m\u001b[38;5;241;43m=\u001b[39;49m\u001b[43mtorch\u001b[49m\u001b[38;5;241;43m.\u001b[39;49m\u001b[43mlong\u001b[49m\u001b[43m)\u001b[49m\u001b[38;5;241;43m.\u001b[39;49m\u001b[43mto\u001b[49m\u001b[43m(\u001b[49m\u001b[43mimage\u001b[49m\u001b[38;5;241;43m.\u001b[39;49m\u001b[43mdevice\u001b[49m\u001b[43m)\u001b[49m\n\u001b[0;32m    127\u001b[0m     \u001b[38;5;66;03m# if train or (inference!='rank_compressed' and inference!='generate'):    \u001b[39;00m\n\u001b[0;32m    128\u001b[0m     \u001b[38;5;66;03m#     question = self.tokenizer(question, padding='max_length', truncation=True, max_length=20, \u001b[39;00m\n\u001b[0;32m    129\u001b[0m     \u001b[38;5;66;03m#                             return_tensors=\"pt\").to(image.device) \u001b[39;00m\n\u001b[0;32m    130\u001b[0m     \u001b[38;5;66;03m#     question[\"input_ids\"][:,0] = self.tokenizer.enc_token_id\u001b[39;00m\n\u001b[0;32m    132\u001b[0m     \u001b[38;5;28;01mif\u001b[39;00m train:               \n",
      "\u001b[1;31mKeyboardInterrupt\u001b[0m: "
     ]
    }
   ],
   "source": [
    "from torch.optim import lr_scheduler\n",
    "\n",
    "optimizer = torch.optim.Adam(model.parameters(), lr=1e-2)\n",
    "scheduler = lr_scheduler.StepLR(optimizer, step_size=3, gamma=0.1)  # Adjust the step_size and gamma accordingly\n",
    "\n",
    "train(train_dataloader, model, val_dataloader, optimizer, 50, scheduler, patience=3)"
   ]
  },
  {
   "cell_type": "code",
   "execution_count": 9,
   "metadata": {},
   "outputs": [
    {
     "name": "stderr",
     "output_type": "stream",
     "text": [
      "100%|██████████| 1500/1500 [05:45<00:00,  4.34it/s]"
     ]
    },
    {
     "name": "stdout",
     "output_type": "stream",
     "text": [
      "Test Accuracy: 85.06666666666666\n"
     ]
    },
    {
     "name": "stderr",
     "output_type": "stream",
     "text": [
      "\n"
     ]
    }
   ],
   "source": [
    "#resume(model, \"best_model_v7_abstract_.pth\")\n",
    "acc = eval(test_dataloader, model, 0, mode=\"Test\")\n",
    "print(f\"Test Accuracy: {acc}\")"
   ]
  },
  {
   "cell_type": "code",
   "execution_count": 5,
   "metadata": {},
   "outputs": [],
   "source": [
    "import tqdm\n",
    "from sklearn import metrics\n",
    "def eval_categories(dataloader, model, epoch, mode=\"Val\"):\n",
    "    size = len(dataloader.dataset)\n",
    "    print(\"Size\",size)\n",
    "    model.eval()\n",
    "    correct_yes_no = 0\n",
    "    yes_no_total = 0\n",
    "    correct_number = 0\n",
    "    number_total = 0\n",
    "    correct_other = 0\n",
    "    other_total = 0\n",
    "    \n",
    "    pbar = tqdm.tqdm(dataloader)\n",
    "    index = 0\n",
    "    test_labels = []\n",
    "    pred_labels = []\n",
    "    for img_b, question_input_ids_b, question_attention_mask_b, multiple_answers_input_ids_b, multiple_answers_attention_mask_b, correct_answers_input_ids_b, correct_answers_attention_mask_b in pbar:\n",
    "        #for i in range(batch_size): \n",
    "        \"\"\"\"    \n",
    "        question = element[i][\"questions\"]\n",
    "        img = element[i][\"imgs\"]\n",
    "        multiple_answers = element[i][\"multiple_answers\"]\n",
    "        correct_answer = element[i][\"correct_answers\"]\n",
    "        \n",
    "        img = img_b[i].unsqueeze(0)\n",
    "        question_input_ids = question_input_ids_b[i].unsqueeze(0)\n",
    "        question_attention_mask = question_attention_mask_b[i].unsqueeze(0)\n",
    "        multiple_answers_input_ids = multiple_answers_input_ids_b[i]\n",
    "        multiple_answers_attention_mask = multiple_answers_attention_mask_b[i]\n",
    "        correct_answers_input_ids = correct_answers_input_ids_b[i].unsqueeze(0)\n",
    "        correct_answers_attention_mask = correct_answers_attention_mask_b[i].unsqueeze(0)\n",
    "        \"\"\"\n",
    "        with torch.no_grad():\n",
    "            idx = model(img_b, question_input_ids_b, question_attention_mask_b, answers_input_ids=multiple_answers_input_ids_b, answers_attention_mask = multiple_answers_attention_mask_b, train=False, inference='rank_compressed', k_test=18).to(device)\n",
    "            # idx is shape [b]\n",
    "            #print(idx.shape)\n",
    "            # predicted answer is shape [b, len_ids]\n",
    "            # multiple_answers_input_ids_b is shape [b,k, len_ids] -> get [b, len_ids] with the index respective to idx\n",
    "            predicted_answer = multiple_answers_input_ids_b[torch.arange(multiple_answers_input_ids_b.size(0)), idx]\n",
    "            #print(\"pred\",predicted_answer.shape)\n",
    "            # add for each in batch 30523\n",
    "            \n",
    "            predicted_answer[:,0] = 30523\n",
    "            correct_answer = correct_answers_input_ids_b\n",
    "\n",
    "            for i in range(batch_size):\n",
    "                correct_answer_text = model.tokenizer.decode(correct_answer[i].detach().cpu().numpy(), skip_special_tokens=True)\n",
    "                #print(\"correct\",correct_answer_text)\n",
    "                correct = int(np.array_equal(correct_answer[i].detach().cpu().numpy(), predicted_answer[i].detach().cpu().numpy()))\n",
    "                \n",
    "\n",
    "                predicted_answer_text = model.tokenizer.decode(predicted_answer[i].detach().cpu().numpy(), skip_special_tokens=True)\n",
    "                if predicted_answer_text == \"yes\" or predicted_answer_text == \"no\":\n",
    "                    pred_labels.append(\"yes/no\")\n",
    "                elif predicted_answer_text.isnumeric():\n",
    "                    pred_labels.append(\"number\")\n",
    "                else:\n",
    "                    pred_labels.append(\"other\")\n",
    "\n",
    "                if correct_answer_text == \"yes\" or correct_answer_text == \"no\":\n",
    "                    #print(\"yes_no\")\n",
    "                    yes_no_total += 1\n",
    "                    test_labels.append(\"yes/no\")\n",
    "                    correct_yes_no += correct\n",
    "                elif correct_answer_text.isnumeric():\n",
    "                    test_labels.append(\"number\")\n",
    "                    #print(\"number\")\n",
    "                    number_total += 1\n",
    "                    correct_number += correct\n",
    "                else:\n",
    "                    #print(\"other\")\n",
    "                    test_labels.append(\"other\")\n",
    "                    other_total += 1\n",
    "                    correct_other += correct\n",
    "            index += 1\n",
    "    print(\"correct_all\", correct_yes_no + correct_number + correct_other)\n",
    "    correct_all = (correct_yes_no + correct_number + correct_other)/(yes_no_total + number_total + other_total)           \n",
    "    correct_yes_no /= yes_no_total\n",
    "    correct_number /= number_total\n",
    "    correct_other /= other_total\n",
    "    all_labels = ['yes/no','number', 'other']\n",
    "\n",
    "    \n",
    "    \n",
    "\n",
    "\n",
    "\n",
    "    print(\"Total\", yes_no_total + number_total + other_total)\n",
    "    #Ploting results\n",
    "    return test_labels, pred_labels, all_labels\n",
    "    return 100*correct_yes_no, 100*correct_number, 100*correct_other,100*correct_all"
   ]
  },
  {
   "cell_type": "code",
   "execution_count": null,
   "metadata": {},
   "outputs": [],
   "source": []
  },
  {
   "cell_type": "code",
   "execution_count": 33,
   "metadata": {},
   "outputs": [
    {
     "name": "stdout",
     "output_type": "stream",
     "text": [
      "Size 3000\n"
     ]
    },
    {
     "name": "stderr",
     "output_type": "stream",
     "text": [
      "100%|██████████| 1500/1500 [05:27<00:00,  4.59it/s]"
     ]
    },
    {
     "name": "stdout",
     "output_type": "stream",
     "text": [
      "correct_all 2552\n",
      "Total 3000\n"
     ]
    },
    {
     "name": "stderr",
     "output_type": "stream",
     "text": [
      "\n"
     ]
    }
   ],
   "source": [
    "# load model\n",
    "#resume(model, \"best_model_v7_abstract_.pth\")\n",
    "#acc_yes_no, acc_number, acc_other, acc_all = eval_categories(test_dataloader, model, 0, mode=\"Test\")\n",
    "test_labels, pred_labels, all_labels = eval_categories(test_dataloader, model, 0, mode=\"Test\")"
   ]
  },
  {
   "cell_type": "code",
   "execution_count": 34,
   "metadata": {},
   "outputs": [
    {
     "name": "stdout",
     "output_type": "stream",
     "text": [
      "F1:  0.9803289501777125\n",
      "F1_macro:  0.9797508257664242\n",
      "F1_micro:  0.9803333333333333\n",
      "Precision:  0.9809889610131615\n",
      "Recall:  0.9803333333333333\n",
      "Confusion Matrix: \n",
      " [[0.38866667 0.         0.00066667]\n",
      " [0.         0.11       0.        ]\n",
      " [0.014      0.005      0.48166667]]\n",
      "Classification Report: \n",
      "               precision    recall  f1-score   support\n",
      "\n",
      "      yes/no       0.97      1.00      0.98      1168\n",
      "      number       0.96      1.00      0.98       330\n",
      "       other       1.00      0.96      0.98      1502\n",
      "\n",
      "    accuracy                           0.98      3000\n",
      "   macro avg       0.97      0.99      0.98      3000\n",
      "weighted avg       0.98      0.98      0.98      3000\n",
      "\n"
     ]
    },
    {
     "data": {
      "image/png": "[encoded data removed]",
      "text/plain": [
       "<Figure size 640x480 with 2 Axes>"
      ]
     },
     "metadata": {},
     "output_type": "display_data"
    }
   ],
   "source": [
    "print(\"F1: \", metrics.f1_score(test_labels, pred_labels, average='weighted', labels=all_labels))\n",
    "print(\"F1_macro: \", metrics.f1_score(test_labels, pred_labels, average='macro', labels=all_labels))\n",
    "print(\"F1_micro: \", metrics.f1_score(test_labels, pred_labels, average='micro', labels=all_labels))\n",
    "print(\"Precision: \", metrics.precision_score(test_labels, pred_labels, average='weighted', labels=all_labels))\n",
    "print(\"Recall: \", metrics.recall_score(test_labels, pred_labels, average='weighted', labels=all_labels))\n",
    "print(\"Confusion Matrix: \\n\", metrics.confusion_matrix(test_labels, pred_labels, labels=all_labels, normalize='all'))\n",
    "print(\"Classification Report: \\n\", metrics.classification_report(test_labels, pred_labels, labels=all_labels))\n",
    "metrics.ConfusionMatrixDisplay.from_predictions(test_labels, pred_labels, labels=all_labels, xticks_rotation='horizontal', normalize='all')\n",
    "\n",
    "plt.xlabel(\"True Category\")\n",
    "plt.ylabel(\"Predicted Category\")\n",
    "plt.savefig('real', pad_inches=0.4, bbox_inches='tight')"
   ]
  },
  {
   "cell_type": "code",
   "execution_count": 12,
   "metadata": {},
   "outputs": [],
   "source": [
    "import tqdm\n",
    "from sklearn import metrics\n",
    "def eval_yes_no(dataloader, model, epoch, mode=\"Val\"):\n",
    "    size = len(dataloader.dataset)\n",
    "    print(\"Size\",size)\n",
    "    model.eval()\n",
    "    correct_yes_no = 0\n",
    "    yes_no_total = 0\n",
    "    correct_number = 0\n",
    "    number_total = 0\n",
    "    correct_other = 0\n",
    "    other_total = 0\n",
    "    \n",
    "    pbar = tqdm.tqdm(dataloader)\n",
    "    index = 0\n",
    "    test_labels = []\n",
    "    pred_labels = []\n",
    "    for img_b, question_input_ids_b, question_attention_mask_b, multiple_answers_input_ids_b, multiple_answers_attention_mask_b, correct_answers_input_ids_b, correct_answers_attention_mask_b in pbar:\n",
    "        #for i in range(batch_size): \n",
    "        \"\"\"\"    \n",
    "        question = element[i][\"questions\"]\n",
    "        img = element[i][\"imgs\"]\n",
    "        multiple_answers = element[i][\"multiple_answers\"]\n",
    "        correct_answer = element[i][\"correct_answers\"]\n",
    "        \n",
    "        img = img_b[i].unsqueeze(0)\n",
    "        question_input_ids = question_input_ids_b[i].unsqueeze(0)\n",
    "        question_attention_mask = question_attention_mask_b[i].unsqueeze(0)\n",
    "        multiple_answers_input_ids = multiple_answers_input_ids_b[i]\n",
    "        multiple_answers_attention_mask = multiple_answers_attention_mask_b[i]\n",
    "        correct_answers_input_ids = correct_answers_input_ids_b[i].unsqueeze(0)\n",
    "        correct_answers_attention_mask = correct_answers_attention_mask_b[i].unsqueeze(0)\n",
    "        \"\"\"\n",
    "        with torch.no_grad():\n",
    "            idx = model(img_b, question_input_ids_b, question_attention_mask_b, answers_input_ids=multiple_answers_input_ids_b, answers_attention_mask = multiple_answers_attention_mask_b, train=False, inference='rank_compressed', k_test=18).to(device)\n",
    "            # idx is shape [b]\n",
    "            #print(idx.shape)\n",
    "            # predicted answer is shape [b, len_ids]\n",
    "            # multiple_answers_input_ids_b is shape [b,k, len_ids] -> get [b, len_ids] with the index respective to idx\n",
    "            predicted_answer = multiple_answers_input_ids_b[torch.arange(multiple_answers_input_ids_b.size(0)), idx]\n",
    "            #print(\"pred\",predicted_answer.shape)\n",
    "            # add for each in batch 30523\n",
    "            \n",
    "            predicted_answer[:,0] = 30523\n",
    "            correct_answer = correct_answers_input_ids_b\n",
    "\n",
    "            for i in range(batch_size):\n",
    "                correct_answer_text = model.tokenizer.decode(correct_answer[i].detach().cpu().numpy(), skip_special_tokens=True)\n",
    "                #print(\"correct\",correct_answer_text)\n",
    "                correct = int(np.array_equal(correct_answer[i].detach().cpu().numpy(), predicted_answer[i].detach().cpu().numpy()))\n",
    "                \n",
    "\n",
    "                predicted_answer_text = model.tokenizer.decode(predicted_answer[i].detach().cpu().numpy(), skip_special_tokens=True)\n",
    "                if correct_answer_text == \"yes\" or correct_answer_text == \"no\":\n",
    "                    if predicted_answer_text == \"yes\":\n",
    "                        pred_labels.append(\"yes\")\n",
    "                    elif predicted_answer_text == \"no\":\n",
    "                        pred_labels.append(\"no\")\n",
    "                    else:\n",
    "                        pred_labels.append(\"other\")\n",
    "                    if correct_answer_text == \"yes\":\n",
    "                        test_labels.append(\"yes\")\n",
    "                    elif correct_answer_text == \"no\":\n",
    "                        test_labels.append(\"no\")\n",
    "            index += 1\n",
    "    all_labels = ['yes','no', 'other']\n",
    "\n",
    "\n",
    "    return test_labels, pred_labels, all_labels\n",
    "\n",
    "    print(\"Total\", yes_no_total + number_total + other_total)\n",
    "    #Ploting results\n",
    "    "
   ]
  },
  {
   "cell_type": "code",
   "execution_count": 13,
   "metadata": {},
   "outputs": [
    {
     "name": "stdout",
     "output_type": "stream",
     "text": [
      "Size 3000\n"
     ]
    },
    {
     "name": "stderr",
     "output_type": "stream",
     "text": [
      "100%|██████████| 1500/1500 [05:24<00:00,  4.62it/s]\n"
     ]
    }
   ],
   "source": [
    "test_labels, pred_labels, all_labels = eval_yes_no(test_dataloader, model, 0, mode=\"Test\")"
   ]
  },
  {
   "cell_type": "code",
   "execution_count": 32,
   "metadata": {},
   "outputs": [
    {
     "name": "stdout",
     "output_type": "stream",
     "text": [
      "F1:  0.9307114849106609\n",
      "F1_macro:  0.6190790833272293\n",
      "F1_micro:  0.9297945205479452\n",
      "Precision:  0.9318259151835654\n",
      "Recall:  0.9297945205479452\n",
      "Confusion Matrix: \n",
      " [[0.54794521 0.03938356 0.00085616]\n",
      " [0.02910959 0.38184932 0.00085616]\n",
      " [0.         0.         0.        ]]\n",
      "Classification Report: \n",
      "               precision    recall  f1-score   support\n",
      "\n",
      "         yes       0.95      0.93      0.94       687\n",
      "          no       0.91      0.93      0.92       481\n",
      "       other       0.00      0.00      0.00         0\n",
      "\n",
      "    accuracy                           0.93      1168\n",
      "   macro avg       0.62      0.62      0.62      1168\n",
      "weighted avg       0.93      0.93      0.93      1168\n",
      "\n"
     ]
    },
    {
     "data": {
      "image/png": "[encoded data removed]",
      "text/plain": [
       "<Figure size 640x480 with 2 Axes>"
      ]
     },
     "metadata": {},
     "output_type": "display_data"
    }
   ],
   "source": [
    "print(\"F1: \", metrics.f1_score(test_labels, pred_labels, average='weighted', labels=all_labels))\n",
    "print(\"F1_macro: \", metrics.f1_score(test_labels, pred_labels, average='macro', labels=all_labels))\n",
    "print(\"F1_micro: \", metrics.f1_score(test_labels, pred_labels, average='micro', labels=all_labels))\n",
    "print(\"Precision: \", metrics.precision_score(test_labels, pred_labels, average='weighted', labels=all_labels))\n",
    "print(\"Recall: \", metrics.recall_score(test_labels, pred_labels, average='weighted', labels=all_labels))\n",
    "print(\"Confusion Matrix: \\n\", metrics.confusion_matrix(test_labels, pred_labels, labels=all_labels, normalize='all'))\n",
    "print(\"Classification Report: \\n\", metrics.classification_report(test_labels, pred_labels, labels=all_labels))\n",
    "# want matrix [yes, no] on y axis and [yes, no, other] on x axis\n",
    "# remove also correspodning values\n",
    "\n",
    "metrics.ConfusionMatrixDisplay.from_predictions(test_labels, pred_labels, labels=all_labels, xticks_rotation='horizontal', normalize='all')\n",
    "\n",
    "plt.xlabel(\"True Category\")\n",
    "plt.ylabel(\"Predicted Category\")\n",
    "plt.savefig('real_yes_no', pad_inches=0.4, bbox_inches='tight')"
   ]
  },
  {
   "cell_type": "code",
   "execution_count": 9,
   "metadata": {},
   "outputs": [
    {
     "name": "stdout",
     "output_type": "stream",
     "text": [
      "Test Accuracy yes/no: 69.296875\n",
      "Test Accuracy number: 52.9126213592233\n",
      "Test Accuracy other: 61.69724770642202\n",
      "Test Accuracy all: 63.733333333333334\n"
     ]
    }
   ],
   "source": [
    "print(f\"Test Accuracy yes/no: {acc_yes_no}\")\n",
    "print(f\"Test Accuracy number: {acc_number}\")\n",
    "print(f\"Test Accuracy other: {acc_other}\")\n",
    "print(f\"Test Accuracy all: {acc_all}\")"
   ]
  },
  {
   "cell_type": "code",
   "execution_count": 9,
   "metadata": {},
   "outputs": [],
   "source": [
    "import tqdm\n",
    "#Evaluating raw model\n",
    "def eval_rank(dataloader, model):\n",
    "    size = len(dataloader.dataset)\n",
    "    model.eval()\n",
    "    correct = 0\n",
    "    pbar = tqdm.tqdm(dataloader)\n",
    "    with torch.no_grad():\n",
    "        for index, element in enumerate(pbar):\n",
    "            for i in range(batch_size):     \n",
    "                question = element[i][\"questions\"]\n",
    "                img = element[i][\"imgs\"]\n",
    "                multiple_answers = element[i][\"multiple_answers\"]\n",
    "                correct_answer = element[i][\"correct_answers\"]\n",
    "                        \n",
    "                with torch.no_grad():\n",
    "                    idx = model(img, question, answer = multiple_answers, train=False, inference='rank_compressed', k_test=18).item()\n",
    "                    predicted_answer = multiple_answers[\"input_ids\"][idx]\n",
    "                    predicted_answer[0] = 30523\n",
    "                    correct_answer = correct_answer[\"input_ids\"][0]\n",
    "                    #predicted_answer_decoded = model.tokenizer.decode(predicted_answer, skip_special_tokens=True)\n",
    "                    #correct_answer_decoded = model.tokenizer.decode(correct_answer, skip_special_tokens=True)\n",
    "                    #print(f\"Predicted: {predicted_answer_decoded}, Correct: {correct_answer_decoded}\")\n",
    "                    #for answer in multiple_answers[\"input_ids\"]:\n",
    "                    #    answer[0] = 30523\n",
    "                    #    print(model.tokenizer.decode(answer, skip_special_tokens=True))\n",
    "                    comp = int(np.array_equal(correct_answer.detach().cpu().numpy(), predicted_answer.detach().cpu().numpy()))\n",
    "                    #print(comp)\n",
    "                    correct += comp\n",
    "        \n",
    "    print(\"Correct: \", correct)\n",
    "    print(\"Size: \", size)\n",
    "    correct /= size\n",
    "    return 100*correct\n",
    "#eval(val_dataloader, model) #63.5% with 4k images (using rank and model_base_vqa_capfilt_large)\n",
    "#63.875% with 4k images(0.2) (using rank and model_base_vqa_capfilt_large)"
   ]
  },
  {
   "cell_type": "code",
   "execution_count": 10,
   "metadata": {},
   "outputs": [
    {
     "name": "stderr",
     "output_type": "stream",
     "text": [
      "100%|██████████| 6000/6000 [22:19<00:00,  4.48it/s]"
     ]
    },
    {
     "name": "stdout",
     "output_type": "stream",
     "text": [
      "Correct:  10220\n",
      "Size:  12000\n",
      "Test Accuracy: 85.16666666666667\n"
     ]
    },
    {
     "name": "stderr",
     "output_type": "stream",
     "text": [
      "\n"
     ]
    }
   ],
   "source": [
    "acc = eval_rank(test_dataloader, model)\n",
    "print(f\"Test Accuracy: {acc}\")"
   ]
  }
 ],
 "metadata": {
  "kernelspec": {
   "display_name": "Python 3",
   "language": "python",
   "name": "python3"
  },
  "language_info": {
   "codemirror_mode": {
    "name": "ipython",
    "version": 3
   },
   "file_extension": ".py",
   "mimetype": "text/x-python",
   "name": "python",
   "nbconvert_exporter": "python",
   "pygments_lexer": "ipython3",
   "version": "3.10.7"
  }
 },
 "nbformat": 4,
 "nbformat_minor": 2
}
