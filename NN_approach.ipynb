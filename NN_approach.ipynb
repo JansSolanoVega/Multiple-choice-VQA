{
 "cells": [
  {
   "cell_type": "code",
   "execution_count": 8,
   "metadata": {},
   "outputs": [
    {
     "data": {
      "text/plain": [
       "'cuda'"
      ]
     },
     "execution_count": 8,
     "metadata": {},
     "output_type": "execute_result"
    }
   ],
   "source": [
    "import torch\n",
    "from torch.utils.data import DataLoader\n",
    "import torchvision.datasets as datasets\n",
    "import clip\n",
    "from tqdm import tqdm\n",
    "\n",
    "device = \"cuda\" if torch.cuda.is_available() else \"cpu\"\n",
    "device"
   ]
  },
  {
   "cell_type": "markdown",
   "metadata": {},
   "source": [
    "**Dataset**"
   ]
  },
  {
   "cell_type": "code",
   "execution_count": 9,
   "metadata": {},
   "outputs": [
    {
     "name": "stderr",
     "output_type": "stream",
     "text": [
      "Preprocessing Images: 100%|██████████| 200/200 [00:02<00:00, 68.70it/s]\n",
      "Testing: 100%|██████████| 200/200 [00:00<00:00, 1116.09it/s]"
     ]
    },
    {
     "name": "stdout",
     "output_type": "stream",
     "text": [
      "id:  tensor([26216]) question:  tensor([[49406,   533,   518,   786,  2330,   518,  1611,   531,  8837,  1136,\n",
      "           286, 49407,     0,     0,     0,     0,     0,     0,     0,     0,\n",
      "             0,     0,     0,     0,     0,     0,     0,     0,     0,     0,\n",
      "             0,     0,     0,     0,     0,     0,     0,     0,     0,     0,\n",
      "             0,     0,     0,     0,     0,     0,     0,     0,     0,     0,\n",
      "             0,     0,     0,     0,     0,     0,     0,     0,     0,     0,\n",
      "             0,     0,     0,     0,     0,     0,     0,     0,     0,     0,\n",
      "             0,     0,     0,     0,     0,     0,     0]], device='cuda:0',\n",
      "       dtype=torch.int32) answer:  tensor([[[49406,   275, 49407,  ...,     0,     0,     0],\n",
      "         [49406,   871, 49407,  ...,     0,     0,     0],\n",
      "         [49406,   334, 49407,  ...,     0,     0,     0],\n",
      "         ...,\n",
      "         [49406,  2308,   537,  ...,     0,     0,     0],\n",
      "         [49406,   274, 49407,  ...,     0,     0,     0],\n",
      "         [49406,  1746, 49407,  ...,     0,     0,     0]]], device='cuda:0',\n",
      "       dtype=torch.int32)\n"
     ]
    },
    {
     "name": "stderr",
     "output_type": "stream",
     "text": [
      "\n"
     ]
    }
   ],
   "source": [
    "from VQA_Dataset import VQA_Dataset\n",
    "device = \"cuda\" if torch.cuda.is_available() else \"cpu\"\n",
    "model, preprocess = clip.load(\"ViT-B/32\", device=device)\n",
    "\n",
    "dataset = VQA_Dataset()\n",
    "dataset.load_all(preprocess, length=200, device=device)\n",
    "dataloader = DataLoader(dataset, batch_size=1, shuffle=False)\n",
    "\n",
    "found = False\n",
    "for i in tqdm(dataloader, desc=\"Testing\"):\n",
    "    id = i['image_id']\n",
    "    if id == torch.tensor(26216) and not found:\n",
    "        found = True\n",
    "        print(\"id: \", id, \"question: \", i['question_tokens'], \"answer: \", i['answer_tokens'])"
   ]
  },
  {
   "cell_type": "code",
   "execution_count": null,
   "metadata": {},
   "outputs": [],
   "source": []
  }
 ],
 "metadata": {
  "kernelspec": {
   "display_name": "Python 3",
   "language": "python",
   "name": "python3"
  },
  "language_info": {
   "codemirror_mode": {
    "name": "ipython",
    "version": 3
   },
   "file_extension": ".py",
   "mimetype": "text/x-python",
   "name": "python",
   "nbconvert_exporter": "python",
   "pygments_lexer": "ipython3",
   "version": "3.9.6"
  }
 },
 "nbformat": 4,
 "nbformat_minor": 2
}
