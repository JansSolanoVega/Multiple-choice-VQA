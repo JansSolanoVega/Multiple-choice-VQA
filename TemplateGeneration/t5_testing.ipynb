{
 "cells": [
  {
   "cell_type": "code",
   "execution_count": 52,
   "metadata": {},
   "outputs": [
    {
     "name": "stderr",
     "output_type": "stream",
     "text": [
      "c:\\Users\\Zetans\\AppData\\Local\\Programs\\Python\\Python39\\lib\\site-packages\\transformers\\models\\t5\\tokenization_t5.py:240: FutureWarning: This tokenizer was incorrectly instantiated with a model max length of 512 which will be corrected in Transformers v5.\n",
      "For now, this behavior is kept to avoid breaking backwards compatibility when padding/encoding with `truncation is True`.\n",
      "- Be aware that you SHOULD NOT rely on t5-base automatically truncating your input to 512 when padding/encoding.\n",
      "- If you want to encode/pad to sequences longer than 512 you can either instantiate this tokenizer with `model_max_length` or pass `max_length` when encoding/padding.\n",
      "- To avoid this warning, please instantiate this tokenizer with `model_max_length` set to your preferred value.\n",
      "  warnings.warn(\n",
      "Special tokens have been added in the vocabulary, make sure the associated word embeddings are fine-tuned or trained.\n"
     ]
    },
    {
     "name": "stdout",
     "output_type": "stream",
     "text": [
      "Das Haus ist wunderbar.\n"
     ]
    }
   ],
   "source": [
    "from transformers import T5Tokenizer, T5ForConditionalGeneration\n",
    "\n",
    "tokenizer = T5Tokenizer.from_pretrained(\"t5-base\")\n",
    "model = T5ForConditionalGeneration.from_pretrained(\"t5-base\")\n",
    "\n",
    "input_ids = tokenizer(\"translate English to German: The house is wonderful.\", return_tensors=\"pt\").input_ids\n",
    "outputs = model.generate(input_ids)\n",
    "print(tokenizer.decode(outputs[0], skip_special_tokens=True))"
   ]
  },
  {
   "cell_type": "code",
   "execution_count": 53,
   "metadata": {},
   "outputs": [
    {
     "data": {
      "text/plain": [
       "['<pad> <extra_id_0> The jacket is [mask] in color.</s>']"
      ]
     },
     "execution_count": 53,
     "metadata": {},
     "output_type": "execute_result"
    }
   ],
   "source": [
    "from transformers import T5Tokenizer, T5ForConditionalGeneration\n",
    "\n",
    "list_of_question_answers_examples=[\"What color is the sky? The sky is [mask] in color.\",\n",
    "                                   \"What color is the car? The car is [mask] in color.\",\n",
    "                                   \"What color is the table? The table is [mask] in color.\",\n",
    "                                   \"What color is the laptop? The laptop is [mask] in color.\"]\n",
    "input_examples_for_t5 = \"\".join([sentence+\" \" for sentence in list_of_question_answers_examples])\n",
    "input_to_predict = \"What color is the jacket? <extra_id_0>\"\n",
    "\n",
    "input_ids = tokenizer(input_examples_for_t5+input_to_predict, return_tensors=\"pt\").input_ids\n",
    "\n",
    "sequence_ids = model.generate(input_ids)\n",
    "sequences = tokenizer.batch_decode(sequence_ids)\n",
    "sequences"
   ]
  },
  {
   "cell_type": "code",
   "execution_count": 54,
   "metadata": {},
   "outputs": [
    {
     "data": {
      "text/plain": [
       "['<pad> <extra_id_0> The specie of flower is [mask].</s>']"
      ]
     },
     "execution_count": 54,
     "metadata": {},
     "output_type": "execute_result"
    }
   ],
   "source": [
    "list_of_question_answers_examples = [\n",
    "    \"What is the capital of Australia? The capital of Australia is [mask].\",\n",
    "    \"What is the process of photosynthesis? The process of photosynthesis is [mask].\",\n",
    "    \"What is the speed of sound? The speed of sound is [mask].\",\n",
    "    \"What is the founder of Microsoft known for? The founder of Microsoft is known for [mask].\",\n",
    "    \"What is the man wearing? The man is wearing [mask].\"\n",
    "]\n",
    "input_examples_for_t5 = \"\".join([sentence+\" \" for sentence in list_of_question_answers_examples])\n",
    "input_to_predict1 = \"What is the president of Peru talking about? <extra_id_0>\"\n",
    "input_to_predict2 = \"What is the specie of flower in the picture? <extra_id_0>\"\n",
    "\n",
    "input_ids = tokenizer(input_examples_for_t5+input_to_predict2, return_tensors=\"pt\").input_ids\n",
    "\n",
    "sequence_ids = model.generate(input_ids)\n",
    "sequences = tokenizer.batch_decode(sequence_ids)\n",
    "sequences"
   ]
  }
 ],
 "metadata": {
  "kernelspec": {
   "display_name": "Python 3",
   "language": "python",
   "name": "python3"
  },
  "language_info": {
   "codemirror_mode": {
    "name": "ipython",
    "version": 3
   },
   "file_extension": ".py",
   "mimetype": "text/x-python",
   "name": "python",
   "nbconvert_exporter": "python",
   "pygments_lexer": "ipython3",
   "version": "3.9.6"
  }
 },
 "nbformat": 4,
 "nbformat_minor": 2
}
