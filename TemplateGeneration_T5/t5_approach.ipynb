{
 "cells": [
  {
   "cell_type": "code",
   "execution_count": 1,
   "metadata": {},
   "outputs": [
    {
     "name": "stdout",
     "output_type": "stream",
     "text": [
      "Das Haus ist wunderbar.\n"
     ]
    }
   ],
   "source": [
    "from transformers import T5Tokenizer, T5ForConditionalGeneration\n",
    "\n",
    "tokenizer = T5Tokenizer.from_pretrained(\"t5-base\")\n",
    "model = T5ForConditionalGeneration.from_pretrained(\"t5-base\")\n",
    "\n",
    "input_ids = tokenizer(\"translate English to German: The house is wonderful.\", return_tensors=\"pt\").input_ids\n",
    "outputs = model.generate(input_ids)\n",
    "print(tokenizer.decode(outputs[0], skip_special_tokens=True))"
   ]
  },
  {
   "cell_type": "code",
   "execution_count": 2,
   "metadata": {},
   "outputs": [
    {
     "data": {
      "text/plain": [
       "['<pad> <extra_id_0> The jacket is [mask] in color.</s>']"
      ]
     },
     "execution_count": 2,
     "metadata": {},
     "output_type": "execute_result"
    }
   ],
   "source": [
    "from transformers import T5Tokenizer, T5ForConditionalGeneration\n",
    "\n",
    "list_of_question_answers_examples=[\"What color is the sky? The sky is [mask] in color.\",\n",
    "                                   \"What color is the car? The car is [mask] in color.\",\n",
    "                                   \"What color is the table? The table is [mask] in color.\",\n",
    "                                   \"What color is the laptop? The laptop is [mask] in color.\"]\n",
    "input_examples_for_t5 = \"\".join([sentence+\" \" for sentence in list_of_question_answers_examples])\n",
    "input_to_predict = \"What color is the jacket? <extra_id_0>\"\n",
    "\n",
    "input_ids = tokenizer(input_examples_for_t5+input_to_predict, return_tensors=\"pt\").input_ids\n",
    "\n",
    "sequence_ids = model.generate(input_ids)\n",
    "sequences = tokenizer.batch_decode(sequence_ids)\n",
    "sequences"
   ]
  },
  {
   "cell_type": "markdown",
   "metadata": {},
   "source": [
    "**Using templates**"
   ]
  },
  {
   "cell_type": "code",
   "execution_count": 1,
   "metadata": {},
   "outputs": [
    {
     "name": "stdout",
     "output_type": "stream",
     "text": [
      "Using device: cuda\n",
      "Question: What color is the fence behind the man?\n",
      "Generated Template: The color of the fence behind the man is [mask].\n"
     ]
    }
   ],
   "source": [
    "from transformers import T5ForConditionalGeneration, T5Tokenizer\n",
    "import torch\n",
    "from utils import *\n",
    "# Load pre-trained T5 model and tokenizer\n",
    "model_name = \"google/t5-v1_1-small\"\n",
    "device = \"cuda\" if torch.cuda.is_available() else \"cpu\"\n",
    "print(\"Using device:\", device)\n",
    "model = T5ForConditionalGeneration.from_pretrained(model_name).to(device)\n",
    "tokenizer = T5Tokenizer.from_pretrained(model_name, legacy=False)\n",
    "\n",
    "# Examples of demonstrations for the \"What color is\" question type\n",
    "demonstrations_color = [\n",
    "    \"What color is the floor of this area? The color of the floor of this area is [mask].\",\n",
    "    \"What color is the pillow the cat is on? The color of the pillow the cat is on is [mask].\",\n",
    "    \"What color is the child’s shorts? The color of the child’s shorts is [mask].\",\n",
    "    \"What color is the lettering on the business sign? The color of the lettering on the business sign is [mask].\",\n",
    "    \"What color is the sky in the picture? The color of the sky in the picture is [mask].\",\n",
    "    \"What color is the car parked on the street? The color of the car parked on the street is [mask].\",\n",
    "    \"What color is the dress the person is wearing? The color of the dress the person is wearing is [mask].\",\n",
    "    \"What color is the flower in the garden? The color of the flower in the garden is [mask].\",\n",
    "    \"What color is the book on the shelf? The color of the book on the shelf is [mask].\",\n",
    "    \"What color is the umbrella in the picture? The color of the umbrella in the picture is [mask].\"\n",
    "]\n",
    "\n",
    "# Example usage\n",
    "question_example = \"What color is the fence behind the man?\"\n",
    "generated_template = generate_masked_template_given_demonstrations(question_example, demonstrations_color, model, tokenizer)\n",
    "\n",
    "# Print the result\n",
    "print(\"Question:\", question_example)\n",
    "print(\"Generated Template:\", generated_template)"
   ]
  },
  {
   "cell_type": "code",
   "execution_count": 3,
   "metadata": {},
   "outputs": [
    {
     "name": "stdout",
     "output_type": "stream",
     "text": [
      "Question: How many people are in the kitchen?\n",
      "Generated Template: The number of people in the kitchen is [mask].\n"
     ]
    }
   ],
   "source": [
    "#Using demonstration_j5.json file\n",
    "question_example = \"How many people are in the kitchen?\"\n",
    "generated_template = generate_template_answer(question_example, model, tokenizer)"
   ]
  }
 ],
 "metadata": {
  "kernelspec": {
   "display_name": "Python 3",
   "language": "python",
   "name": "python3"
  },
  "language_info": {
   "codemirror_mode": {
    "name": "ipython",
    "version": 3
   },
   "file_extension": ".py",
   "mimetype": "text/x-python",
   "name": "python",
   "nbconvert_exporter": "python",
   "pygments_lexer": "ipython3",
   "version": "3.9.6"
  }
 },
 "nbformat": 4,
 "nbformat_minor": 2
}
