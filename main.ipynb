{
 "cells": [
  {
   "cell_type": "markdown",
   "metadata": {},
   "source": [
    "## Load the dataset\n"
   ]
  },
  {
   "cell_type": "code",
   "execution_count": 1,
   "metadata": {},
   "outputs": [
    {
     "name": "stdout",
     "output_type": "stream",
     "text": [
      "Using cuda device\n",
      "Compose\n",
      "clip model loaded\n"
     ]
    }
   ],
   "source": [
    "from VQA_Datasetv2 import VQA_Dataset, VQA_Dataset_preloaded, VQA_Dataset_Sentences\n",
    "import clip\n",
    "import torch\n",
    "from torch.utils.data import DataLoader\n",
    "from torch.utils.data import random_split\n",
    "\n",
    "device = \"cuda\" if torch.cuda.is_available() else \"cpu\"\n",
    "print(f\"Using {device} device\")\n",
    "model, preprocess = clip.load(\"ViT-B/32\", device=device)\n",
    "print(preprocess.__class__.__name__)\n",
    "model.to(torch.float32)\n",
    "print(\"clip model loaded\")"
   ]
  },
  {
   "cell_type": "code",
   "execution_count": null,
   "metadata": {},
   "outputs": [],
   "source": [
    "print(model)"
   ]
  },
  {
   "cell_type": "markdown",
   "metadata": {},
   "source": [
    "## Choose one of the 3:"
   ]
  },
  {
   "cell_type": "markdown",
   "metadata": {},
   "source": [
    "### 1.Normal loading"
   ]
  },
  {
   "cell_type": "code",
   "execution_count": null,
   "metadata": {},
   "outputs": [],
   "source": [
    "loading = 1\n",
    "\n",
    "if loading < 3:\n",
    "    dataset = VQA_Dataset_Sentences()\n",
    "    \n",
    "if loading == 0:\n",
    "    dataset.load_preprocess(preprocess, device, length=30000)\n",
    "elif loading == 1:\n",
    "    dataset.load(preprocess, device, length=4)\n",
    "elif loading == 2:\n",
    "    dataset.load_encode(preprocess, device, model, length=100)\n",
    "    dataset.save(\"\")\n",
    "elif loading == 3:\n",
    "    dataset.load_saved(\"\")"
   ]
  },
  {
   "cell_type": "code",
   "execution_count": 3,
   "metadata": {},
   "outputs": [
    {
     "ename": "JSONDecodeError",
     "evalue": "Expecting ',' delimiter: line 37502 column 1 (char 31333498)",
     "output_type": "error",
     "traceback": [
      "\u001b[1;31m---------------------------------------------------------------------------\u001b[0m",
      "\u001b[1;31mJSONDecodeError\u001b[0m                           Traceback (most recent call last)",
      "Cell \u001b[1;32mIn[3], line 4\u001b[0m\n\u001b[0;32m      2\u001b[0m dataset_val \u001b[38;5;241m=\u001b[39m VQA_Dataset_Sentences()\n\u001b[0;32m      3\u001b[0m dataset_train\u001b[38;5;241m.\u001b[39mload(preprocess, device, length\u001b[38;5;241m=\u001b[39m\u001b[38;5;241m228841\u001b[39m)\n\u001b[1;32m----> 4\u001b[0m \u001b[43mdataset_val\u001b[49m\u001b[38;5;241;43m.\u001b[39;49m\u001b[43mload\u001b[49m\u001b[43m(\u001b[49m\u001b[43mpreprocess\u001b[49m\u001b[43m,\u001b[49m\u001b[43m \u001b[49m\u001b[43mdevice\u001b[49m\u001b[43m,\u001b[49m\u001b[43m \u001b[49m\u001b[43mname\u001b[49m\u001b[38;5;241;43m=\u001b[39;49m\u001b[38;5;124;43m\"\u001b[39;49m\u001b[38;5;124;43mval\u001b[39;49m\u001b[38;5;124;43m\"\u001b[39;49m\u001b[43m,\u001b[49m\u001b[43m \u001b[49m\u001b[43mlength\u001b[49m\u001b[38;5;241;43m=\u001b[39;49m\u001b[38;5;241;43m37501\u001b[39;49m\u001b[43m)\u001b[49m\n",
      "File \u001b[1;32mc:\\Users\\mr_pa\\Documents\\Uni\\FoundationModels\\Multiple-choice-VQA\\VQA_Datasetv2.py:489\u001b[0m, in \u001b[0;36mVQA_Dataset_Sentences.load\u001b[1;34m(self, preprocess, device, name, length)\u001b[0m\n\u001b[0;32m    486\u001b[0m     file \u001b[38;5;241m=\u001b[39m \u001b[38;5;124m'\u001b[39m\u001b[38;5;124msentences_val.json\u001b[39m\u001b[38;5;124m'\u001b[39m\n\u001b[0;32m    488\u001b[0m \u001b[38;5;28;01mwith\u001b[39;00m \u001b[38;5;28mopen\u001b[39m(file, \u001b[38;5;124m'\u001b[39m\u001b[38;5;124mr\u001b[39m\u001b[38;5;124m'\u001b[39m) \u001b[38;5;28;01mas\u001b[39;00m f:\n\u001b[1;32m--> 489\u001b[0m     data \u001b[38;5;241m=\u001b[39m \u001b[43mjson\u001b[49m\u001b[38;5;241;43m.\u001b[39;49m\u001b[43mload\u001b[49m\u001b[43m(\u001b[49m\u001b[43mf\u001b[49m\u001b[43m)\u001b[49m\n\u001b[0;32m    490\u001b[0m     data \u001b[38;5;241m=\u001b[39m data[\u001b[38;5;124m'\u001b[39m\u001b[38;5;124mdata\u001b[39m\u001b[38;5;124m'\u001b[39m]\n\u001b[0;32m    491\u001b[0m     \u001b[38;5;28;01mfor\u001b[39;00m pair \u001b[38;5;129;01min\u001b[39;00m data[:length]:\n",
      "File \u001b[1;32mc:\\Users\\mr_pa\\AppData\\Local\\Programs\\Python\\Python310\\lib\\json\\__init__.py:293\u001b[0m, in \u001b[0;36mload\u001b[1;34m(fp, cls, object_hook, parse_float, parse_int, parse_constant, object_pairs_hook, **kw)\u001b[0m\n\u001b[0;32m    274\u001b[0m \u001b[38;5;28;01mdef\u001b[39;00m \u001b[38;5;21mload\u001b[39m(fp, \u001b[38;5;241m*\u001b[39m, \u001b[38;5;28mcls\u001b[39m\u001b[38;5;241m=\u001b[39m\u001b[38;5;28;01mNone\u001b[39;00m, object_hook\u001b[38;5;241m=\u001b[39m\u001b[38;5;28;01mNone\u001b[39;00m, parse_float\u001b[38;5;241m=\u001b[39m\u001b[38;5;28;01mNone\u001b[39;00m,\n\u001b[0;32m    275\u001b[0m         parse_int\u001b[38;5;241m=\u001b[39m\u001b[38;5;28;01mNone\u001b[39;00m, parse_constant\u001b[38;5;241m=\u001b[39m\u001b[38;5;28;01mNone\u001b[39;00m, object_pairs_hook\u001b[38;5;241m=\u001b[39m\u001b[38;5;28;01mNone\u001b[39;00m, \u001b[38;5;241m*\u001b[39m\u001b[38;5;241m*\u001b[39mkw):\n\u001b[0;32m    276\u001b[0m \u001b[38;5;250m    \u001b[39m\u001b[38;5;124;03m\"\"\"Deserialize ``fp`` (a ``.read()``-supporting file-like object containing\u001b[39;00m\n\u001b[0;32m    277\u001b[0m \u001b[38;5;124;03m    a JSON document) to a Python object.\u001b[39;00m\n\u001b[0;32m    278\u001b[0m \n\u001b[1;32m   (...)\u001b[0m\n\u001b[0;32m    291\u001b[0m \u001b[38;5;124;03m    kwarg; otherwise ``JSONDecoder`` is used.\u001b[39;00m\n\u001b[0;32m    292\u001b[0m \u001b[38;5;124;03m    \"\"\"\u001b[39;00m\n\u001b[1;32m--> 293\u001b[0m     \u001b[38;5;28;01mreturn\u001b[39;00m loads(fp\u001b[38;5;241m.\u001b[39mread(),\n\u001b[0;32m    294\u001b[0m         \u001b[38;5;28mcls\u001b[39m\u001b[38;5;241m=\u001b[39m\u001b[38;5;28mcls\u001b[39m, object_hook\u001b[38;5;241m=\u001b[39mobject_hook,\n\u001b[0;32m    295\u001b[0m         parse_float\u001b[38;5;241m=\u001b[39mparse_float, parse_int\u001b[38;5;241m=\u001b[39mparse_int,\n\u001b[0;32m    296\u001b[0m         parse_constant\u001b[38;5;241m=\u001b[39mparse_constant, object_pairs_hook\u001b[38;5;241m=\u001b[39mobject_pairs_hook, \u001b[38;5;241m*\u001b[39m\u001b[38;5;241m*\u001b[39mkw)\n",
      "File \u001b[1;32mc:\\Users\\mr_pa\\AppData\\Local\\Programs\\Python\\Python310\\lib\\json\\__init__.py:346\u001b[0m, in \u001b[0;36mloads\u001b[1;34m(s, cls, object_hook, parse_float, parse_int, parse_constant, object_pairs_hook, **kw)\u001b[0m\n\u001b[0;32m    341\u001b[0m     s \u001b[38;5;241m=\u001b[39m s\u001b[38;5;241m.\u001b[39mdecode(detect_encoding(s), \u001b[38;5;124m'\u001b[39m\u001b[38;5;124msurrogatepass\u001b[39m\u001b[38;5;124m'\u001b[39m)\n\u001b[0;32m    343\u001b[0m \u001b[38;5;28;01mif\u001b[39;00m (\u001b[38;5;28mcls\u001b[39m \u001b[38;5;129;01mis\u001b[39;00m \u001b[38;5;28;01mNone\u001b[39;00m \u001b[38;5;129;01mand\u001b[39;00m object_hook \u001b[38;5;129;01mis\u001b[39;00m \u001b[38;5;28;01mNone\u001b[39;00m \u001b[38;5;129;01mand\u001b[39;00m\n\u001b[0;32m    344\u001b[0m         parse_int \u001b[38;5;129;01mis\u001b[39;00m \u001b[38;5;28;01mNone\u001b[39;00m \u001b[38;5;129;01mand\u001b[39;00m parse_float \u001b[38;5;129;01mis\u001b[39;00m \u001b[38;5;28;01mNone\u001b[39;00m \u001b[38;5;129;01mand\u001b[39;00m\n\u001b[0;32m    345\u001b[0m         parse_constant \u001b[38;5;129;01mis\u001b[39;00m \u001b[38;5;28;01mNone\u001b[39;00m \u001b[38;5;129;01mand\u001b[39;00m object_pairs_hook \u001b[38;5;129;01mis\u001b[39;00m \u001b[38;5;28;01mNone\u001b[39;00m \u001b[38;5;129;01mand\u001b[39;00m \u001b[38;5;129;01mnot\u001b[39;00m kw):\n\u001b[1;32m--> 346\u001b[0m     \u001b[38;5;28;01mreturn\u001b[39;00m \u001b[43m_default_decoder\u001b[49m\u001b[38;5;241;43m.\u001b[39;49m\u001b[43mdecode\u001b[49m\u001b[43m(\u001b[49m\u001b[43ms\u001b[49m\u001b[43m)\u001b[49m\n\u001b[0;32m    347\u001b[0m \u001b[38;5;28;01mif\u001b[39;00m \u001b[38;5;28mcls\u001b[39m \u001b[38;5;129;01mis\u001b[39;00m \u001b[38;5;28;01mNone\u001b[39;00m:\n\u001b[0;32m    348\u001b[0m     \u001b[38;5;28mcls\u001b[39m \u001b[38;5;241m=\u001b[39m JSONDecoder\n",
      "File \u001b[1;32mc:\\Users\\mr_pa\\AppData\\Local\\Programs\\Python\\Python310\\lib\\json\\decoder.py:337\u001b[0m, in \u001b[0;36mJSONDecoder.decode\u001b[1;34m(self, s, _w)\u001b[0m\n\u001b[0;32m    332\u001b[0m \u001b[38;5;28;01mdef\u001b[39;00m \u001b[38;5;21mdecode\u001b[39m(\u001b[38;5;28mself\u001b[39m, s, _w\u001b[38;5;241m=\u001b[39mWHITESPACE\u001b[38;5;241m.\u001b[39mmatch):\n\u001b[0;32m    333\u001b[0m \u001b[38;5;250m    \u001b[39m\u001b[38;5;124;03m\"\"\"Return the Python representation of ``s`` (a ``str`` instance\u001b[39;00m\n\u001b[0;32m    334\u001b[0m \u001b[38;5;124;03m    containing a JSON document).\u001b[39;00m\n\u001b[0;32m    335\u001b[0m \n\u001b[0;32m    336\u001b[0m \u001b[38;5;124;03m    \"\"\"\u001b[39;00m\n\u001b[1;32m--> 337\u001b[0m     obj, end \u001b[38;5;241m=\u001b[39m \u001b[38;5;28;43mself\u001b[39;49m\u001b[38;5;241;43m.\u001b[39;49m\u001b[43mraw_decode\u001b[49m\u001b[43m(\u001b[49m\u001b[43ms\u001b[49m\u001b[43m,\u001b[49m\u001b[43m \u001b[49m\u001b[43midx\u001b[49m\u001b[38;5;241;43m=\u001b[39;49m\u001b[43m_w\u001b[49m\u001b[43m(\u001b[49m\u001b[43ms\u001b[49m\u001b[43m,\u001b[49m\u001b[43m \u001b[49m\u001b[38;5;241;43m0\u001b[39;49m\u001b[43m)\u001b[49m\u001b[38;5;241;43m.\u001b[39;49m\u001b[43mend\u001b[49m\u001b[43m(\u001b[49m\u001b[43m)\u001b[49m\u001b[43m)\u001b[49m\n\u001b[0;32m    338\u001b[0m     end \u001b[38;5;241m=\u001b[39m _w(s, end)\u001b[38;5;241m.\u001b[39mend()\n\u001b[0;32m    339\u001b[0m     \u001b[38;5;28;01mif\u001b[39;00m end \u001b[38;5;241m!=\u001b[39m \u001b[38;5;28mlen\u001b[39m(s):\n",
      "File \u001b[1;32mc:\\Users\\mr_pa\\AppData\\Local\\Programs\\Python\\Python310\\lib\\json\\decoder.py:353\u001b[0m, in \u001b[0;36mJSONDecoder.raw_decode\u001b[1;34m(self, s, idx)\u001b[0m\n\u001b[0;32m    344\u001b[0m \u001b[38;5;250m\u001b[39m\u001b[38;5;124;03m\"\"\"Decode a JSON document from ``s`` (a ``str`` beginning with\u001b[39;00m\n\u001b[0;32m    345\u001b[0m \u001b[38;5;124;03ma JSON document) and return a 2-tuple of the Python\u001b[39;00m\n\u001b[0;32m    346\u001b[0m \u001b[38;5;124;03mrepresentation and the index in ``s`` where the document ended.\u001b[39;00m\n\u001b[1;32m   (...)\u001b[0m\n\u001b[0;32m    350\u001b[0m \n\u001b[0;32m    351\u001b[0m \u001b[38;5;124;03m\"\"\"\u001b[39;00m\n\u001b[0;32m    352\u001b[0m \u001b[38;5;28;01mtry\u001b[39;00m:\n\u001b[1;32m--> 353\u001b[0m     obj, end \u001b[38;5;241m=\u001b[39m \u001b[38;5;28;43mself\u001b[39;49m\u001b[38;5;241;43m.\u001b[39;49m\u001b[43mscan_once\u001b[49m\u001b[43m(\u001b[49m\u001b[43ms\u001b[49m\u001b[43m,\u001b[49m\u001b[43m \u001b[49m\u001b[43midx\u001b[49m\u001b[43m)\u001b[49m\n\u001b[0;32m    354\u001b[0m \u001b[38;5;28;01mexcept\u001b[39;00m \u001b[38;5;167;01mStopIteration\u001b[39;00m \u001b[38;5;28;01mas\u001b[39;00m err:\n\u001b[0;32m    355\u001b[0m     \u001b[38;5;28;01mraise\u001b[39;00m JSONDecodeError(\u001b[38;5;124m\"\u001b[39m\u001b[38;5;124mExpecting value\u001b[39m\u001b[38;5;124m\"\u001b[39m, s, err\u001b[38;5;241m.\u001b[39mvalue) \u001b[38;5;28;01mfrom\u001b[39;00m \u001b[38;5;28;01mNone\u001b[39;00m\n",
      "\u001b[1;31mJSONDecodeError\u001b[0m: Expecting ',' delimiter: line 37502 column 1 (char 31333498)"
     ]
    }
   ],
   "source": [
    "dataset_train = VQA_Dataset_Sentences()\n",
    "dataset_val = VQA_Dataset_Sentences()\n",
    "dataset_train.load(preprocess, device, length=228841)\n",
    "dataset_val.load(preprocess, device, name=\"val\", length=37501)"
   ]
  },
  {
   "cell_type": "markdown",
   "metadata": {},
   "source": [
    "### 2.Precalc"
   ]
  },
  {
   "cell_type": "code",
   "execution_count": 14,
   "metadata": {},
   "outputs": [
    {
     "name": "stderr",
     "output_type": "stream",
     "text": [
      "Preprocessing Images: 100%|██████████| 10000/10000 [12:30<00:00, 13.32it/s]\n",
      "Preprocessing Images: 100%|██████████| 10000/10000 [09:52<00:00, 16.87it/s]\n"
     ]
    }
   ],
   "source": [
    "dataset_train = VQA_Dataset_preloaded()\n",
    "dataset_val = VQA_Dataset_preloaded()\n",
    "dataset_train.compute_store(preprocess, model, device, \"scale_10000_\", length=10000, mode=\"scale\")# length=248348)\n",
    "dataset_val.compute_store(preprocess, model, device, \"scale_10000_\", name=\"val\", length=10000, mode=\"scale\") # length=121511 )"
   ]
  },
  {
   "cell_type": "markdown",
   "metadata": {},
   "source": [
    "### 3.Only load"
   ]
  },
  {
   "cell_type": "code",
   "execution_count": 2,
   "metadata": {},
   "outputs": [],
   "source": [
    "dataset_train = VQA_Dataset_preloaded()\n",
    "dataset_val = VQA_Dataset_preloaded()\n",
    "dataset_train.load(\"full_\", device, length=32755)# 248348)\n",
    "dataset_val.load(\"full_\", device, name=\"val\", length=37501)#121511)"
   ]
  },
  {
   "cell_type": "markdown",
   "metadata": {},
   "source": [
    "### Create Dataloader"
   ]
  },
  {
   "cell_type": "markdown",
   "metadata": {},
   "source": [
    "## New with both Validation and Training Datasets from MSCOCO"
   ]
  },
  {
   "cell_type": "code",
   "execution_count": 3,
   "metadata": {},
   "outputs": [
    {
     "name": "stdout",
     "output_type": "stream",
     "text": [
      "Train size:  32755\n",
      "Test size:  26251\n",
      "Val size:  11250\n"
     ]
    }
   ],
   "source": [
    "batch_size=2\n",
    "\n",
    "train_size = int(len(dataset_train))\n",
    "val_size = int(len(dataset_val)*0.3)\n",
    "test_size = int(len(dataset_val))-val_size\n",
    "print(\"Train size: \", train_size)\n",
    "print(\"Test size: \", test_size)\n",
    "print(\"Val size: \", val_size)\n",
    "generator = torch.Generator().manual_seed(42)\n",
    "test_dataset, val_dataset = random_split(dataset_val, [test_size, val_size], generator=generator)\n",
    "\n",
    "train_dataloader = DataLoader(dataset_train, batch_size=batch_size, shuffle=True)\n",
    "test_dataloader = DataLoader(test_dataset, batch_size=batch_size, shuffle=True)\n",
    "val_dataloader = DataLoader(val_dataset, batch_size=batch_size, shuffle=True)"
   ]
  },
  {
   "cell_type": "markdown",
   "metadata": {},
   "source": [
    "### Old"
   ]
  },
  {
   "cell_type": "code",
   "execution_count": 3,
   "metadata": {},
   "outputs": [
    {
     "name": "stdout",
     "output_type": "stream",
     "text": [
      "Train size:  19200\n",
      "Test size:  6000\n",
      "Val size:  4800\n"
     ]
    }
   ],
   "source": [
    "batch_size=2\n",
    "\n",
    "train_val_size = int(len(dataset)*0.8)\n",
    "train_size = int(len(dataset)*0.8*0.8)\n",
    "val_size = int(len(dataset)*0.8)-train_size\n",
    "test_size = int(len(dataset))-train_val_size\n",
    "print(\"Train size: \", train_size)\n",
    "print(\"Test size: \", test_size)\n",
    "print(\"Val size: \", val_size)\n",
    "generator = torch.Generator().manual_seed(42)\n",
    "train_dataset, test_dataset, val_dataset = random_split(dataset, [train_size, test_size, val_size], generator=generator)\n",
    "\n",
    "train_dataloader = DataLoader(train_dataset, batch_size=batch_size, shuffle=True)\n",
    "test_dataloader = DataLoader(test_dataset, batch_size=batch_size, shuffle=True)\n",
    "val_dataloader = DataLoader(val_dataset, batch_size=batch_size, shuffle=True)"
   ]
  },
  {
   "cell_type": "markdown",
   "metadata": {},
   "source": [
    "## Simple model architectue\n"
   ]
  },
  {
   "cell_type": "code",
   "execution_count": 4,
   "metadata": {},
   "outputs": [],
   "source": [
    "from models import VQA_Model3, VQA_Model2, VQA_Model_Precalc, VQA_Model4, VQA_Model_Blip, VQA_Model_Precalc_Zero, VQA_Model_Precalc_Text, VQA_Model_classify, VQA_Model_classify_v2, VQA_Model_classify_v3, VQA_Model4_Precalc\n",
    "\n"
   ]
  },
  {
   "cell_type": "markdown",
   "metadata": {},
   "source": [
    "## Evaluate"
   ]
  },
  {
   "cell_type": "code",
   "execution_count": 5,
   "metadata": {},
   "outputs": [],
   "source": [
    "import tqdm\n",
    "\n",
    "def evaluate(model, dataloader, device, test_size, show_progress=False, score_each=False):\n",
    "    model.eval()\n",
    "    correct = 0\n",
    "    if show_progress:\n",
    "        pbar = tqdm.tqdm(dataloader)\n",
    "    else:\n",
    "        pbar = dataloader\n",
    "    for i, data in enumerate(pbar):\n",
    "        image = data[0].to(device)\n",
    "        answer_tokens = data[1].squeeze(0).to(device)\n",
    "        if dataloader.batch_size == 1:\n",
    "            correct_answer = torch.tensor([int(data[3])]).to(device)\n",
    "            question_tokens = data[2].squeeze(0).to(device)\n",
    "        else:\n",
    "            correct_answer = torch.tensor([int(x) for x in data[3]]).to(device)\n",
    "            question_tokens = data[2].squeeze(1).to(device)\n",
    "\n",
    "        with torch.no_grad():\n",
    "            if score_each:\n",
    "                # get similarity for each answer, not for each pair of batch\n",
    "                if len(answer_tokens.shape) == 2:\n",
    "                    answer_tokens = answer_tokens.unsqueeze(0)\n",
    "                similarity = torch.zeros((answer_tokens.shape[0], answer_tokens.shape[1])).to(device)\n",
    "                \n",
    "            \n",
    "                for answer in range(answer_tokens.shape[1]):\n",
    "                    \n",
    "                    similarity[:,answer] = model(image, question_tokens, answer_tokens[:, answer]).squeeze(1)\n",
    "                    \n",
    "                    \n",
    "                pred = similarity.argmax(dim=-1)\n",
    "                \n",
    "                # get sum of correct answers\n",
    "                correct += (pred == correct_answer).sum().item()\n",
    "\n",
    "            else:\n",
    "                similarity = model(image, question_tokens, answer_tokens)\n",
    "                pred = similarity.argmax(dim=-1)\n",
    "                # get sum of correct answers\n",
    "                correct += (pred == correct_answer).sum().item()\n",
    "    print(f\"Correct: {correct}, Total: {test_size}\")\n",
    "    return correct/(test_size)\n"
   ]
  },
  {
   "cell_type": "code",
   "execution_count": 6,
   "metadata": {},
   "outputs": [
    {
     "name": "stderr",
     "output_type": "stream",
     "text": [
      "100%|██████████| 42529/42529 [00:50<00:00, 846.64it/s]"
     ]
    },
    {
     "name": "stdout",
     "output_type": "stream",
     "text": [
      "Correct: 13649, Total: 85058\n"
     ]
    },
    {
     "name": "stderr",
     "output_type": "stream",
     "text": [
      "\n"
     ]
    },
    {
     "data": {
      "text/plain": [
       "0.16046697547555785"
      ]
     },
     "execution_count": 6,
     "metadata": {},
     "output_type": "execute_result"
    }
   ],
   "source": [
    "combined_model = VQA_Model_Precalc_Text(model, device)\n",
    "evaluate(combined_model, test_dataloader, device, test_size, show_progress=True)"
   ]
  },
  {
   "cell_type": "markdown",
   "metadata": {},
   "source": [
    "## Training"
   ]
  },
  {
   "cell_type": "code",
   "execution_count": 13,
   "metadata": {},
   "outputs": [],
   "source": [
    "\n",
    "from torch.optim import lr_scheduler\n",
    "\n",
    "def train(model, train_dataloader, val_dataloader, device, test_size, epochs=10, patience=4, precalculated=False, save_name=\"model\", loss_fn = torch.nn.CrossEntropyLoss()):\n",
    "    print(device)\n",
    "    model.train()\n",
    "    print(model.parameters())\n",
    "    optimizer = torch.optim.Adam(model.parameters(), lr=1e-3)\n",
    "    scheduler = lr_scheduler.StepLR(optimizer, step_size=2, gamma=0.1)  # Adjust the step_size and gamma accordingly\n",
    "\n",
    "\n",
    "    \n",
    "    prev_acc = 0.0\n",
    "    best_acc = 0.0\n",
    "    count = 0\n",
    "    for epoch in range(epochs):\n",
    "        inner_bar = tqdm.tqdm(train_dataloader, desc='Batch', colour='green')\n",
    "        \n",
    "        for data in inner_bar:\n",
    "            \n",
    "            image = data[0].to(device)\n",
    "            answer_tokens = data[1].squeeze(0).to(device)\n",
    "            if train_dataloader.batch_size == 1:\n",
    "                correct_answer = torch.tensor(int(data[3])).to(device)\n",
    "                question_tokens = data[2].squeeze(0).to(device)\n",
    "            else:\n",
    "                correct_answer = torch.tensor([int(x) for x in data[3]]).to(device)\n",
    "                question_tokens = data[2].squeeze(1).to(device)\n",
    "            \n",
    "            if loss_fn._get_name() == 'CrossEntropyLoss':\n",
    "                similarity = model(image, question_tokens, answer_tokens)\n",
    "                loss = loss_fn(similarity, correct_answer)\n",
    "                optimizer.zero_grad()\n",
    "                loss.backward()\n",
    "                torch.nn.utils.clip_grad_norm_(model.parameters(), max_norm=4.0, error_if_nonfinite=True)\n",
    "                optimizer.step()\n",
    "            else:\n",
    "                for answer in range(answer_tokens.shape[1]):\n",
    "                    similarity = model(image, question_tokens, answer_tokens[:,answer]).squeeze(1)\n",
    "                    # create 0 or 1 for batch_size\n",
    "                    correct_similarity = torch.zeros(similarity.shape[0]).to(device)\n",
    "                    correct_similarity[correct_answer == answer] = 1\n",
    "                    loss = loss_fn(similarity, correct_similarity)\n",
    "                    optimizer.zero_grad()\n",
    "                    loss.backward()\n",
    "                    torch.nn.utils.clip_grad_norm_(model.parameters(), max_norm=4.0, error_if_nonfinite=True)\n",
    "                    optimizer.step()\n",
    "                    #print(\"--------------------------------------------------\")\n",
    "            # transform asnwer to tensor of the same shape as similarity before only correct index\n",
    "            #one_hot_encoding = torch.zeros(similarity.shape[1])\n",
    "            #one_hot_encoding[correct_answer] = 1\n",
    "            #one_hot_encoding = one_hot_encoding.to(device)\n",
    "            \n",
    "            \n",
    "            \n",
    "            #print(\"--------------------------------------------------\")\n",
    "        scheduler.step()\n",
    "        if loss_fn._get_name() == 'CrossEntropyLoss':\n",
    "            acc = evaluate(model, val_dataloader, device,test_size)\n",
    "        else:\n",
    "            acc = evaluate(model, val_dataloader, device,test_size, score_each=True)\n",
    "        if acc > best_acc:\n",
    "            best_acc = acc\n",
    "            # save model\n",
    "            model.save(save_name)\n",
    "        if acc <= prev_acc:\n",
    "            count += 1\n",
    "        else:\n",
    "            count = 0\n",
    "        prev_acc = acc\n",
    "        print(f\"Epoch {epoch} loss: {loss.item()}, acc: {acc}, patience: {count}\")\n",
    "        if count == patience:\n",
    "            print(\"early stopping\")\n",
    "            break \n",
    "        inner_bar.close()"
   ]
  },
  {
   "cell_type": "code",
   "execution_count": 14,
   "metadata": {},
   "outputs": [
    {
     "name": "stderr",
     "output_type": "stream",
     "text": [
      "  0%|          | 0/13126 [00:00<?, ?it/s]"
     ]
    },
    {
     "name": "stderr",
     "output_type": "stream",
     "text": [
      "100%|██████████| 13126/13126 [00:15<00:00, 822.31it/s]\n"
     ]
    },
    {
     "name": "stdout",
     "output_type": "stream",
     "text": [
      "Correct: 2505, Total: 26251\n",
      "cuda\n",
      "<generator object Module.parameters at 0x000002612F391E70>\n"
     ]
    },
    {
     "name": "stderr",
     "output_type": "stream",
     "text": [
      "Batch: 100%|\u001b[32m██████████\u001b[0m| 16378/16378 [00:51<00:00, 317.50it/s]\n"
     ]
    },
    {
     "name": "stdout",
     "output_type": "stream",
     "text": [
      "Correct: 3752, Total: 11250\n",
      "Epoch 0 loss: 0.8944920897483826, acc: 0.3335111111111111, patience: 0\n"
     ]
    },
    {
     "name": "stderr",
     "output_type": "stream",
     "text": [
      "Batch: 100%|\u001b[32m██████████\u001b[0m| 16378/16378 [00:52<00:00, 310.60it/s]\n"
     ]
    },
    {
     "name": "stdout",
     "output_type": "stream",
     "text": [
      "Correct: 4062, Total: 11250\n",
      "Epoch 1 loss: 2.233835220336914, acc: 0.36106666666666665, patience: 0\n"
     ]
    },
    {
     "name": "stderr",
     "output_type": "stream",
     "text": [
      "Batch: 100%|\u001b[32m██████████\u001b[0m| 16378/16378 [00:52<00:00, 313.33it/s]\n"
     ]
    },
    {
     "name": "stdout",
     "output_type": "stream",
     "text": [
      "Correct: 4271, Total: 11250\n",
      "Epoch 2 loss: 0.27676695585250854, acc: 0.37964444444444445, patience: 0\n"
     ]
    },
    {
     "name": "stderr",
     "output_type": "stream",
     "text": [
      "Batch: 100%|\u001b[32m██████████\u001b[0m| 16378/16378 [00:52<00:00, 311.26it/s]\n"
     ]
    },
    {
     "name": "stdout",
     "output_type": "stream",
     "text": [
      "Correct: 4371, Total: 11250\n",
      "Epoch 3 loss: 1.6076503992080688, acc: 0.38853333333333334, patience: 0\n"
     ]
    },
    {
     "name": "stderr",
     "output_type": "stream",
     "text": [
      "Batch: 100%|\u001b[32m██████████\u001b[0m| 16378/16378 [00:52<00:00, 312.10it/s]\n"
     ]
    },
    {
     "name": "stdout",
     "output_type": "stream",
     "text": [
      "Correct: 4383, Total: 11250\n",
      "Epoch 4 loss: 3.1190197467803955, acc: 0.3896, patience: 0\n"
     ]
    },
    {
     "name": "stderr",
     "output_type": "stream",
     "text": [
      "Batch: 100%|\u001b[32m██████████\u001b[0m| 16378/16378 [00:52<00:00, 314.20it/s]\n"
     ]
    },
    {
     "name": "stdout",
     "output_type": "stream",
     "text": [
      "Correct: 4399, Total: 11250\n",
      "Epoch 5 loss: 0.15594035387039185, acc: 0.3910222222222222, patience: 0\n"
     ]
    },
    {
     "name": "stderr",
     "output_type": "stream",
     "text": [
      "Batch: 100%|\u001b[32m██████████\u001b[0m| 16378/16378 [00:52<00:00, 313.07it/s]\n"
     ]
    },
    {
     "name": "stdout",
     "output_type": "stream",
     "text": [
      "Correct: 4393, Total: 11250\n",
      "Epoch 6 loss: 1.806797742843628, acc: 0.3904888888888889, patience: 1\n"
     ]
    },
    {
     "name": "stderr",
     "output_type": "stream",
     "text": [
      "Batch: 100%|\u001b[32m██████████\u001b[0m| 16378/16378 [00:52<00:00, 313.45it/s]\n"
     ]
    },
    {
     "name": "stdout",
     "output_type": "stream",
     "text": [
      "Correct: 4394, Total: 11250\n",
      "Epoch 7 loss: 1.5958313941955566, acc: 0.3905777777777778, patience: 0\n"
     ]
    },
    {
     "name": "stderr",
     "output_type": "stream",
     "text": [
      "Batch: 100%|\u001b[32m██████████\u001b[0m| 16378/16378 [00:52<00:00, 312.72it/s]\n"
     ]
    },
    {
     "name": "stdout",
     "output_type": "stream",
     "text": [
      "Correct: 4393, Total: 11250\n",
      "Epoch 8 loss: 1.0123833417892456, acc: 0.3904888888888889, patience: 1\n"
     ]
    },
    {
     "name": "stderr",
     "output_type": "stream",
     "text": [
      "Batch: 100%|\u001b[32m██████████\u001b[0m| 16378/16378 [00:52<00:00, 313.59it/s]\n"
     ]
    },
    {
     "name": "stdout",
     "output_type": "stream",
     "text": [
      "Correct: 4395, Total: 11250\n",
      "Epoch 9 loss: 1.004792332649231, acc: 0.39066666666666666, patience: 0\n"
     ]
    },
    {
     "name": "stderr",
     "output_type": "stream",
     "text": [
      "Batch: 100%|\u001b[32m██████████\u001b[0m| 16378/16378 [00:52<00:00, 311.98it/s]\n"
     ]
    },
    {
     "name": "stdout",
     "output_type": "stream",
     "text": [
      "Correct: 4395, Total: 11250\n",
      "Epoch 10 loss: 2.1819546222686768, acc: 0.39066666666666666, patience: 1\n"
     ]
    },
    {
     "name": "stderr",
     "output_type": "stream",
     "text": [
      "Batch: 100%|\u001b[32m██████████\u001b[0m| 16378/16378 [00:52<00:00, 313.59it/s]\n"
     ]
    },
    {
     "name": "stdout",
     "output_type": "stream",
     "text": [
      "Correct: 4395, Total: 11250\n",
      "Epoch 11 loss: 0.5126448273658752, acc: 0.39066666666666666, patience: 2\n"
     ]
    },
    {
     "name": "stderr",
     "output_type": "stream",
     "text": [
      "Batch: 100%|\u001b[32m██████████\u001b[0m| 16378/16378 [00:52<00:00, 313.33it/s]\n"
     ]
    },
    {
     "name": "stdout",
     "output_type": "stream",
     "text": [
      "Correct: 4395, Total: 11250\n",
      "Epoch 12 loss: 8.752946853637695, acc: 0.39066666666666666, patience: 3\n"
     ]
    },
    {
     "name": "stderr",
     "output_type": "stream",
     "text": [
      "Batch: 100%|\u001b[32m██████████\u001b[0m| 16378/16378 [00:52<00:00, 313.36it/s]\n"
     ]
    },
    {
     "name": "stdout",
     "output_type": "stream",
     "text": [
      "Correct: 4395, Total: 11250\n",
      "Epoch 13 loss: 0.9845958352088928, acc: 0.39066666666666666, patience: 4\n",
      "early stopping\n",
      "Correct: 10225, Total: 26251\n"
     ]
    },
    {
     "data": {
      "text/plain": [
       "0.38950897108681576"
      ]
     },
     "execution_count": 14,
     "metadata": {},
     "output_type": "execute_result"
    }
   ],
   "source": [
    "import time\n",
    "\n",
    "trained_model = VQA_Model4_Precalc(model, device)\n",
    "# freeze the clip model\n",
    "for param in trained_model.model.parameters():\n",
    "    param.requires_grad = False\n",
    "\n",
    "\n",
    "evaluate(trained_model, test_dataloader, device, test_size, show_progress=True)\n",
    "train(trained_model, train_dataloader, val_dataloader, device, val_size, epochs=400, save_name=\"model_4_sentences_prec_adaptiveLr\")\n",
    "# evaluate the model\n",
    "evaluate(trained_model, test_dataloader, device, test_size)"
   ]
  },
  {
   "cell_type": "markdown",
   "metadata": {},
   "source": [
    "## Save the model!"
   ]
  },
  {
   "cell_type": "code",
   "execution_count": null,
   "metadata": {},
   "outputs": [],
   "source": [
    "# save the model\n",
    "trained_model.save(\"trained_model_\")"
   ]
  },
  {
   "cell_type": "markdown",
   "metadata": {},
   "source": [
    "## Load and evaluate\n"
   ]
  },
  {
   "cell_type": "code",
   "execution_count": 8,
   "metadata": {},
   "outputs": [
    {
     "name": "stderr",
     "output_type": "stream",
     "text": [
      "100%|██████████| 3000/3000 [00:43<00:00, 68.31it/s]"
     ]
    },
    {
     "name": "stdout",
     "output_type": "stream",
     "text": [
      "Correct: 2809, Total: 6000\n"
     ]
    },
    {
     "name": "stderr",
     "output_type": "stream",
     "text": [
      "\n"
     ]
    },
    {
     "data": {
      "text/plain": [
       "0.4681666666666667"
      ]
     },
     "execution_count": 8,
     "metadata": {},
     "output_type": "execute_result"
    }
   ],
   "source": [
    "#load and evaluate the model\n",
    "from models import VQA_Model4\n",
    "\n",
    "trained_model = VQA_Model_Precalc(model, device) # need to choose the same model!\n",
    "trained_model.load(\"best_model_\")\n",
    "#print(trained_model)\n",
    "evaluate(trained_model, test_dataloader, device, test_size, show_progress=True)"
   ]
  },
  {
   "cell_type": "code",
   "execution_count": null,
   "metadata": {},
   "outputs": [
    {
     "data": {
      "text/plain": [
       "'\\nimport clip\\nfrom PIL import Image\\nimport torch\\n\\nfor model_name in clip.available_models():\\n    device = \"cuda\" if torch.cuda.is_available() else \"cpu\"\\n    print(f\"Using {device} device and model: {model_name}\")\\n    model, preprocess = clip.load(model_name, device=device)\\n    model.to(torch.float32)\\n    text_tokens = clip.tokenize([\"question_text\"]).to(device)\\n    image = preprocess(Image.open(\"CLIP.jpg\")).unsqueeze(0).to(device)\\n    image_features = model.encode_image(image)\\n    text_features = model.encode_text(text_tokens)\\n    print(f\"text_t {text_tokens.dtype}, text_f {text_features.dtype}, image_t {image.dtype}, image_f {image_features.dtype}\")\\n    '"
      ]
     },
     "execution_count": 8,
     "metadata": {},
     "output_type": "execute_result"
    }
   ],
   "source": [
    "\"\"\"\n",
    "import clip\n",
    "from PIL import Image\n",
    "import torch\n",
    "\n",
    "for model_name in clip.available_models():\n",
    "    device = \"cuda\" if torch.cuda.is_available() else \"cpu\"\n",
    "    print(f\"Using {device} device and model: {model_name}\")\n",
    "    model, preprocess = clip.load(model_name, device=device)\n",
    "    model.to(torch.float32)\n",
    "    text_tokens = clip.tokenize([\"question_text\"]).to(device)\n",
    "    image = preprocess(Image.open(\"CLIP.jpg\")).unsqueeze(0).to(device)\n",
    "    image_features = model.encode_image(image)\n",
    "    text_features = model.encode_text(text_tokens)\n",
    "    print(f\"text_t {text_tokens.dtype}, text_f {text_features.dtype}, image_t {image.dtype}, image_f {image_features.dtype}\")\n",
    "    \"\"\"\n"
   ]
  }
 ],
 "metadata": {
  "kernelspec": {
   "display_name": "Python 3",
   "language": "python",
   "name": "python3"
  },
  "language_info": {
   "codemirror_mode": {
    "name": "ipython",
    "version": 3
   },
   "file_extension": ".py",
   "mimetype": "text/x-python",
   "name": "python",
   "nbconvert_exporter": "python",
   "pygments_lexer": "ipython3",
   "version": "3.10.7"
  }
 },
 "nbformat": 4,
 "nbformat_minor": 2
}
