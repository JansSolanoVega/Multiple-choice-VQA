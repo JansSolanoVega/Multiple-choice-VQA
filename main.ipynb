{
 "cells": [
  {
   "cell_type": "markdown",
   "metadata": {},
   "source": [
    "## Load the dataset\n"
   ]
  },
  {
   "cell_type": "code",
   "execution_count": 1,
   "metadata": {},
   "outputs": [
    {
     "name": "stdout",
     "output_type": "stream",
     "text": [
      "Using cuda device\n"
     ]
    },
    {
     "name": "stderr",
     "output_type": "stream",
     "text": [
      "Preprocessing Images: 100%|██████████| 6000/6000 [01:17<00:00, 77.87it/s]\n"
     ]
    },
    {
     "name": "stdout",
     "output_type": "stream",
     "text": [
      "Train size:  3840\n",
      "Test size:  1200\n",
      "Val size:  960\n"
     ]
    }
   ],
   "source": [
    "from VQA_Datasetv2 import VQA_Dataset\n",
    "import clip\n",
    "import torch\n",
    "from torch.utils.data import DataLoader\n",
    "from torch.utils.data import random_split\n",
    "\n",
    "device = \"cuda\" if torch.cuda.is_available() else \"cpu\"\n",
    "print(f\"Using {device} device\")\n",
    "model, preprocess = clip.load(\"ViT-B/32\", device=device)\n",
    "model.to(torch.float32)\n",
    "dataset = VQA_Dataset()\n",
    "dataset.load_all(preprocess, device, length=6000)\n",
    "train_val_size = int(len(dataset)*0.8)\n",
    "train_size = int(len(dataset)*0.8*0.8)\n",
    "val_size = int(len(dataset)*0.8)-train_size\n",
    "test_size = int(len(dataset))-train_val_size\n",
    "print(\"Train size: \", train_size)\n",
    "print(\"Test size: \", test_size)\n",
    "print(\"Val size: \", val_size)\n",
    "train_dataset, test_dataset, val_dataset = random_split(dataset, [train_size, test_size, val_size])\n",
    "\n",
    "batch_size=32\n",
    "train_dataloader = DataLoader(train_dataset, batch_size=batch_size, shuffle=True)\n",
    "test_dataloader = DataLoader(test_dataset, batch_size=batch_size, shuffle=True)\n",
    "val_dataloader = DataLoader(val_dataset, batch_size=batch_size, shuffle=True)"
   ]
  },
  {
   "cell_type": "markdown",
   "metadata": {},
   "source": [
    "## Simple model architectue\n"
   ]
  },
  {
   "cell_type": "code",
   "execution_count": 2,
   "metadata": {},
   "outputs": [],
   "source": [
    "from models import VQA_Model2\n",
    "\n"
   ]
  },
  {
   "cell_type": "markdown",
   "metadata": {},
   "source": [
    "## Evaluate"
   ]
  },
  {
   "cell_type": "code",
   "execution_count": 3,
   "metadata": {},
   "outputs": [],
   "source": [
    "import tqdm\n",
    "\n",
    "def evaluate(model, dataloader, device, test_size, show_progress=False):\n",
    "    model.eval()\n",
    "    correct = 0\n",
    "    if show_progress:\n",
    "        pbar = tqdm.tqdm(dataloader)\n",
    "    else:\n",
    "        pbar = dataloader\n",
    "    for i, data in enumerate(pbar):\n",
    "        image = data[0].to(device)\n",
    "        answer_tokens = data[1].squeeze(0).to(device)\n",
    "        if dataloader.batch_size == 1:\n",
    "            correct_answer = torch.tensor([int(data[3])]).to(device)\n",
    "            question_tokens = data[2].squeeze(0).to(device)\n",
    "        else:\n",
    "            correct_answer = torch.tensor([int(x) for x in data[3]]).to(device)\n",
    "            question_tokens = data[2].squeeze(1).to(device)\n",
    "\n",
    "        with torch.no_grad():\n",
    "            similarity = model(image, question_tokens, answer_tokens)\n",
    "            pred = similarity.argmax(dim=-1)\n",
    "            # get sum of correct answers\n",
    "            correct += (pred == correct_answer).sum().item()\n",
    "    print(f\"Correct: {correct}, Total: {test_size}\")\n",
    "    return correct/(test_size)\n"
   ]
  },
  {
   "cell_type": "code",
   "execution_count": 4,
   "metadata": {},
   "outputs": [
    {
     "name": "stderr",
     "output_type": "stream",
     "text": [
      "100%|██████████| 38/38 [00:27<00:00,  1.41it/s]"
     ]
    },
    {
     "name": "stdout",
     "output_type": "stream",
     "text": [
      "Correct: 39, Total: 1200\n"
     ]
    },
    {
     "name": "stderr",
     "output_type": "stream",
     "text": [
      "\n"
     ]
    },
    {
     "data": {
      "text/plain": [
       "0.0325"
      ]
     },
     "execution_count": 4,
     "metadata": {},
     "output_type": "execute_result"
    }
   ],
   "source": [
    "combined_model = VQA_Model2(model, device)\n",
    "evaluate(combined_model, test_dataloader, device, test_size, show_progress=True)"
   ]
  },
  {
   "cell_type": "markdown",
   "metadata": {},
   "source": [
    "## Training"
   ]
  },
  {
   "cell_type": "code",
   "execution_count": 5,
   "metadata": {},
   "outputs": [],
   "source": [
    "def train(model, train_dataloader, val_dataloader, device, test_size, epochs=10, patience=3):\n",
    "    print(device)\n",
    "    model.train()\n",
    "    print(model.parameters())\n",
    "    optimizer = torch.optim.Adam(model.parameters(), lr=1e-4)\n",
    "    loss_fn = torch.nn.CrossEntropyLoss()\n",
    "\n",
    "    pbar = tqdm.tqdm(range(epochs))\n",
    "    prev_acc = 0.0\n",
    "    count = 0\n",
    "    for epoch in pbar:\n",
    "        for i, data in enumerate(train_dataloader):\n",
    "\n",
    "            image = data[0].to(device)\n",
    "            answer_tokens = data[1].squeeze(0).to(device)\n",
    "            if train_dataloader.batch_size == 1:\n",
    "                correct_answer = torch.tensor(int(data[3])).to(device)\n",
    "                question_tokens = data[2].squeeze(0).to(device)\n",
    "            else:\n",
    "                correct_answer = torch.tensor([int(x) for x in data[3]]).to(device)\n",
    "                question_tokens = data[2].squeeze(1).to(device)\n",
    "            \n",
    "            optimizer.zero_grad()\n",
    "            similarity = model(image, question_tokens, answer_tokens)\n",
    "\n",
    "            # transform asnwer to tensor of the same shape as similarity before only correct index\n",
    "            #one_hot_encoding = torch.zeros(similarity.shape[1])\n",
    "            #one_hot_encoding[correct_answer] = 1\n",
    "            #one_hot_encoding = one_hot_encoding.to(device)\n",
    "            \n",
    "\n",
    "            loss = loss_fn(similarity, correct_answer)\n",
    "            loss.backward()\n",
    "            torch.nn.utils.clip_grad_norm_(model.parameters(), max_norm=4.0, error_if_nonfinite=True)\n",
    "            optimizer.step()\n",
    "            #print(\"--------------------------------------------------\")\n",
    "        acc = evaluate(model, val_dataloader, device,test_size)\n",
    "        if acc < prev_acc:\n",
    "            count += 1\n",
    "        prev_acc = acc\n",
    "        pbar.set_description(f\"Epoch {epoch} loss: {loss.item()}, acc: {acc}\")\n",
    "        if count == patience:\n",
    "            print(\"early stopping\")\n",
    "            break "
   ]
  },
  {
   "cell_type": "code",
   "execution_count": 6,
   "metadata": {},
   "outputs": [
    {
     "name": "stdout",
     "output_type": "stream",
     "text": [
      "Correct: 66, Total: 1200\n",
      "cuda\n",
      "<generator object Module.parameters at 0x000002094CF9D1C0>\n"
     ]
    },
    {
     "name": "stderr",
     "output_type": "stream",
     "text": [
      "  0%|          | 0/200 [01:20<?, ?it/s]\n"
     ]
    },
    {
     "ename": "RuntimeError",
     "evalue": "CUDA error: invalid device ordinal\nCUDA kernel errors might be asynchronously reported at some other API call, so the stacktrace below might be incorrect.\nFor debugging consider passing CUDA_LAUNCH_BLOCKING=1.\nCompile with `TORCH_USE_CUDA_DSA` to enable device-side assertions.\n",
     "output_type": "error",
     "traceback": [
      "\u001b[1;31m---------------------------------------------------------------------------\u001b[0m",
      "\u001b[1;31mRuntimeError\u001b[0m                              Traceback (most recent call last)",
      "\u001b[1;32mc:\\Users\\mr_pa\\Documents\\Uni\\FoundationModels\\Multiple-choice-VQA\\main.ipynb Cell 10\u001b[0m line \u001b[0;36m1\n\u001b[0;32m      <a href='vscode-notebook-cell:/c%3A/Users/mr_pa/Documents/Uni/FoundationModels/Multiple-choice-VQA/main.ipynb#X42sZmlsZQ%3D%3D?line=5'>6</a>\u001b[0m     param\u001b[39m.\u001b[39mrequires_grad \u001b[39m=\u001b[39m \u001b[39mFalse\u001b[39;00m\n\u001b[0;32m      <a href='vscode-notebook-cell:/c%3A/Users/mr_pa/Documents/Uni/FoundationModels/Multiple-choice-VQA/main.ipynb#X42sZmlsZQ%3D%3D?line=8'>9</a>\u001b[0m evaluate(trained_model, test_dataloader, device, test_size)\n\u001b[1;32m---> <a href='vscode-notebook-cell:/c%3A/Users/mr_pa/Documents/Uni/FoundationModels/Multiple-choice-VQA/main.ipynb#X42sZmlsZQ%3D%3D?line=9'>10</a>\u001b[0m train(trained_model, train_dataloader, val_dataloader, device, test_size, epochs\u001b[39m=\u001b[39;49m\u001b[39m200\u001b[39;49m)\n\u001b[0;32m     <a href='vscode-notebook-cell:/c%3A/Users/mr_pa/Documents/Uni/FoundationModels/Multiple-choice-VQA/main.ipynb#X42sZmlsZQ%3D%3D?line=10'>11</a>\u001b[0m \u001b[39m# evaluate the model\u001b[39;00m\n\u001b[0;32m     <a href='vscode-notebook-cell:/c%3A/Users/mr_pa/Documents/Uni/FoundationModels/Multiple-choice-VQA/main.ipynb#X42sZmlsZQ%3D%3D?line=11'>12</a>\u001b[0m evaluate(trained_model, test_dataloader, device, test_size)\n",
      "\u001b[1;32mc:\\Users\\mr_pa\\Documents\\Uni\\FoundationModels\\Multiple-choice-VQA\\main.ipynb Cell 10\u001b[0m line \u001b[0;36m3\n\u001b[0;32m     <a href='vscode-notebook-cell:/c%3A/Users/mr_pa/Documents/Uni/FoundationModels/Multiple-choice-VQA/main.ipynb#X42sZmlsZQ%3D%3D?line=34'>35</a>\u001b[0m     optimizer\u001b[39m.\u001b[39mstep()\n\u001b[0;32m     <a href='vscode-notebook-cell:/c%3A/Users/mr_pa/Documents/Uni/FoundationModels/Multiple-choice-VQA/main.ipynb#X42sZmlsZQ%3D%3D?line=35'>36</a>\u001b[0m     \u001b[39m#print(\"--------------------------------------------------\")\u001b[39;00m\n\u001b[1;32m---> <a href='vscode-notebook-cell:/c%3A/Users/mr_pa/Documents/Uni/FoundationModels/Multiple-choice-VQA/main.ipynb#X42sZmlsZQ%3D%3D?line=36'>37</a>\u001b[0m acc \u001b[39m=\u001b[39m evaluate(model, val_dataloader, test_size, device)\n\u001b[0;32m     <a href='vscode-notebook-cell:/c%3A/Users/mr_pa/Documents/Uni/FoundationModels/Multiple-choice-VQA/main.ipynb#X42sZmlsZQ%3D%3D?line=37'>38</a>\u001b[0m \u001b[39mif\u001b[39;00m acc \u001b[39m<\u001b[39m prev_acc:\n\u001b[0;32m     <a href='vscode-notebook-cell:/c%3A/Users/mr_pa/Documents/Uni/FoundationModels/Multiple-choice-VQA/main.ipynb#X42sZmlsZQ%3D%3D?line=38'>39</a>\u001b[0m     count \u001b[39m+\u001b[39m\u001b[39m=\u001b[39m \u001b[39m1\u001b[39m\n",
      "\u001b[1;32mc:\\Users\\mr_pa\\Documents\\Uni\\FoundationModels\\Multiple-choice-VQA\\main.ipynb Cell 10\u001b[0m line \u001b[0;36m1\n\u001b[0;32m      <a href='vscode-notebook-cell:/c%3A/Users/mr_pa/Documents/Uni/FoundationModels/Multiple-choice-VQA/main.ipynb#X42sZmlsZQ%3D%3D?line=8'>9</a>\u001b[0m     pbar \u001b[39m=\u001b[39m dataloader\n\u001b[0;32m     <a href='vscode-notebook-cell:/c%3A/Users/mr_pa/Documents/Uni/FoundationModels/Multiple-choice-VQA/main.ipynb#X42sZmlsZQ%3D%3D?line=9'>10</a>\u001b[0m \u001b[39mfor\u001b[39;00m i, data \u001b[39min\u001b[39;00m \u001b[39menumerate\u001b[39m(pbar):\n\u001b[1;32m---> <a href='vscode-notebook-cell:/c%3A/Users/mr_pa/Documents/Uni/FoundationModels/Multiple-choice-VQA/main.ipynb#X42sZmlsZQ%3D%3D?line=10'>11</a>\u001b[0m     image \u001b[39m=\u001b[39m data[\u001b[39m0\u001b[39;49m]\u001b[39m.\u001b[39;49mto(device)\n\u001b[0;32m     <a href='vscode-notebook-cell:/c%3A/Users/mr_pa/Documents/Uni/FoundationModels/Multiple-choice-VQA/main.ipynb#X42sZmlsZQ%3D%3D?line=11'>12</a>\u001b[0m     answer_tokens \u001b[39m=\u001b[39m data[\u001b[39m1\u001b[39m]\u001b[39m.\u001b[39msqueeze(\u001b[39m0\u001b[39m)\u001b[39m.\u001b[39mto(device)\n\u001b[0;32m     <a href='vscode-notebook-cell:/c%3A/Users/mr_pa/Documents/Uni/FoundationModels/Multiple-choice-VQA/main.ipynb#X42sZmlsZQ%3D%3D?line=12'>13</a>\u001b[0m     \u001b[39mif\u001b[39;00m dataloader\u001b[39m.\u001b[39mbatch_size \u001b[39m==\u001b[39m \u001b[39m1\u001b[39m:\n",
      "\u001b[1;31mRuntimeError\u001b[0m: CUDA error: invalid device ordinal\nCUDA kernel errors might be asynchronously reported at some other API call, so the stacktrace below might be incorrect.\nFor debugging consider passing CUDA_LAUNCH_BLOCKING=1.\nCompile with `TORCH_USE_CUDA_DSA` to enable device-side assertions.\n"
     ]
    }
   ],
   "source": [
    "import time\n",
    "\n",
    "trained_model = VQA_Model2(model, device)\n",
    "# freeze the clip model\n",
    "for param in trained_model.model.parameters():\n",
    "    param.requires_grad = False\n",
    "\n",
    "\n",
    "evaluate(trained_model, test_dataloader, device, test_size)\n",
    "train(trained_model, train_dataloader, val_dataloader, device, test_size, epochs=200)\n",
    "# evaluate the model\n",
    "evaluate(trained_model, test_dataloader, device, test_size)"
   ]
  },
  {
   "cell_type": "code",
   "execution_count": null,
   "metadata": {},
   "outputs": [],
   "source": [
    "# save the model\n",
    "torch.save(trained_model.state_dict(), \"trained_model.pt\")"
   ]
  },
  {
   "cell_type": "code",
   "execution_count": null,
   "metadata": {},
   "outputs": [
    {
     "data": {
      "text/plain": [
       "'\\nimport clip\\nfrom PIL import Image\\nimport torch\\n\\nfor model_name in clip.available_models():\\n    device = \"cuda\" if torch.cuda.is_available() else \"cpu\"\\n    print(f\"Using {device} device and model: {model_name}\")\\n    model, preprocess = clip.load(model_name, device=device)\\n    model.to(torch.float32)\\n    text_tokens = clip.tokenize([\"question_text\"]).to(device)\\n    image = preprocess(Image.open(\"CLIP.jpg\")).unsqueeze(0).to(device)\\n    image_features = model.encode_image(image)\\n    text_features = model.encode_text(text_tokens)\\n    print(f\"text_t {text_tokens.dtype}, text_f {text_features.dtype}, image_t {image.dtype}, image_f {image_features.dtype}\")\\n    '"
      ]
     },
     "execution_count": 8,
     "metadata": {},
     "output_type": "execute_result"
    }
   ],
   "source": [
    "\"\"\"\n",
    "import clip\n",
    "from PIL import Image\n",
    "import torch\n",
    "\n",
    "for model_name in clip.available_models():\n",
    "    device = \"cuda\" if torch.cuda.is_available() else \"cpu\"\n",
    "    print(f\"Using {device} device and model: {model_name}\")\n",
    "    model, preprocess = clip.load(model_name, device=device)\n",
    "    model.to(torch.float32)\n",
    "    text_tokens = clip.tokenize([\"question_text\"]).to(device)\n",
    "    image = preprocess(Image.open(\"CLIP.jpg\")).unsqueeze(0).to(device)\n",
    "    image_features = model.encode_image(image)\n",
    "    text_features = model.encode_text(text_tokens)\n",
    "    print(f\"text_t {text_tokens.dtype}, text_f {text_features.dtype}, image_t {image.dtype}, image_f {image_features.dtype}\")\n",
    "    \"\"\"\n"
   ]
  }
 ],
 "metadata": {
  "kernelspec": {
   "display_name": "Python 3",
   "language": "python",
   "name": "python3"
  },
  "language_info": {
   "codemirror_mode": {
    "name": "ipython",
    "version": 3
   },
   "file_extension": ".py",
   "mimetype": "text/x-python",
   "name": "python",
   "nbconvert_exporter": "python",
   "pygments_lexer": "ipython3",
   "version": "3.10.7"
  }
 },
 "nbformat": 4,
 "nbformat_minor": 2
}
