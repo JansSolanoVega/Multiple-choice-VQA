{
 "cells": [
  {
   "cell_type": "markdown",
   "metadata": {},
   "source": [
    "## Load the dataset\n"
   ]
  },
  {
   "cell_type": "code",
   "execution_count": 51,
   "metadata": {},
   "outputs": [
    {
     "name": "stdout",
     "output_type": "stream",
     "text": [
      "Using cuda device\n"
     ]
    },
    {
     "name": "stderr",
     "output_type": "stream",
     "text": [
      "Preprocessing Images: 100%|██████████| 500/500 [00:06<00:00, 71.44it/s]"
     ]
    },
    {
     "name": "stdout",
     "output_type": "stream",
     "text": [
      "Train size:  320\n",
      "Test size:  100\n",
      "Val size:  80\n"
     ]
    },
    {
     "name": "stderr",
     "output_type": "stream",
     "text": [
      "\n"
     ]
    }
   ],
   "source": [
    "from VQA_Datasetv2 import VQA_Dataset\n",
    "import clip\n",
    "import torch\n",
    "from torch.utils.data import DataLoader\n",
    "from torch.utils.data import random_split\n",
    "\n",
    "device = \"cuda\" if torch.cuda.is_available() else \"cpu\"\n",
    "print(f\"Using {device} device\")\n",
    "model, preprocess = clip.load(\"ViT-B/32\", device=device)\n",
    "\n",
    "dataset = VQA_Dataset()\n",
    "dataset.load_all(preprocess, device, length=500)\n",
    "train_val_size = int(len(dataset)*0.8)\n",
    "train_size = int(len(dataset)*0.8*0.8)\n",
    "val_size = int(len(dataset)*0.8)-train_size\n",
    "test_size = int(len(dataset))-train_val_size\n",
    "print(\"Train size: \", train_size)\n",
    "print(\"Test size: \", test_size)\n",
    "print(\"Val size: \", val_size)\n",
    "train_dataset, test_dataset, val_dataset = random_split(dataset, [train_size, test_size, val_size])\n",
    "\n",
    "batch_size=1\n",
    "train_dataloader = DataLoader(train_dataset, batch_size=batch_size, shuffle=True)\n",
    "test_dataloader = DataLoader(test_dataset, batch_size=batch_size, shuffle=True)\n",
    "val_dataloader = DataLoader(val_dataset, batch_size=batch_size, shuffle=True)"
   ]
  },
  {
   "cell_type": "markdown",
   "metadata": {},
   "source": [
    "## Simple model architectue\n"
   ]
  },
  {
   "cell_type": "code",
   "execution_count": 52,
   "metadata": {},
   "outputs": [],
   "source": [
    "import tqdm\n",
    "\n",
    "class VQA_Model(torch.nn.Module):\n",
    "    \"\"\"uses the model from clip like in evaluation method\"\"\"\n",
    "    def __init__(self, model, device):\n",
    "        super().__init__()\n",
    "        self.model = model\n",
    "        self.device = device\n",
    "\n",
    "    def forward(self, image, question_tokens, answer_tokens):\n",
    "        \"\"\"returns the logits for the answers\"\"\"\n",
    "        image_features = model.encode_image(image)\n",
    "        question_features = model.encode_text(question_tokens)\n",
    "        answer_features = model.encode_text(answer_tokens)\n",
    "        \n",
    "        answer_features /= answer_features.norm(dim=-1, keepdim=True)\n",
    "        \n",
    "        combined_features = image_features * question_features\n",
    "        combined_features /= combined_features.norm(dim=-1, keepdim=True)\n",
    "\n",
    "        similarity = (100.0 * combined_features @ answer_features.T).softmax(dim=-1)\n",
    "        return similarity\n",
    "\n",
    "    \n"
   ]
  },
  {
   "cell_type": "code",
   "execution_count": 53,
   "metadata": {},
   "outputs": [],
   "source": [
    "class VQA_Model2(torch.nn.Module):\n",
    "    \"\"\"architecture that uses clip and a small NN to combine question and image features to get a embedding of the same size as the answer embedding\n",
    "        Only train the NN, not the clip model\n",
    "    \"\"\"\n",
    "    def __init__(self, model, device):\n",
    "        super().__init__()\n",
    "        self.model = model\n",
    "        self.device = device\n",
    "        self.fc1 = torch.nn.Linear(1024, 512).to(self.device)\n",
    "        self.initialize_parameters()\n",
    "\n",
    "    def initialize_parameters(self):\n",
    "        # Apply Xavier/Glorot initialization to the linear layer\n",
    "        torch.nn.init.xavier_uniform_(self.fc1.weight)\n",
    "        torch.nn.init.zeros_(self.fc1.bias.data)\n",
    "\n",
    "    def forward(self, image, question_tokens, answer_tokens):\n",
    "        \"\"\"returns the logits for the answers\"\"\"\n",
    "        image_features = model.encode_image(image)\n",
    "        question_features = model.encode_text(question_tokens)\n",
    "        answer_features = model.encode_text(answer_tokens)\n",
    "        \n",
    "        answer_features /= answer_features.norm(dim=-1, keepdim=True)\n",
    "\n",
    "        # concatenate the features\n",
    "        combined_features = torch.cat((image_features, question_features), dim=1).to(self.device)  \n",
    "        combined_features /= combined_features.norm(dim=-1, keepdim=True) \n",
    "        combined_features = combined_features.to(torch.float32)\n",
    "        combined_features = self.fc1(combined_features)\n",
    "        \n",
    "        combined_features = combined_features.to(torch.float16)\n",
    "\n",
    "        similarity =(combined_features @ answer_features.T)# .softmax(dim=-1) no softmax because of cross entropy loss; without multiplying by 100\n",
    "        \n",
    "        return similarity"
   ]
  },
  {
   "cell_type": "markdown",
   "metadata": {},
   "source": [
    "## Evaluate"
   ]
  },
  {
   "cell_type": "code",
   "execution_count": 64,
   "metadata": {},
   "outputs": [],
   "source": [
    "import tqdm\n",
    "\n",
    "def evaluate(model, dataloader, device, show_progress=False):\n",
    "    model.eval()\n",
    "    correct = 0\n",
    "    if show_progress:\n",
    "        pbar = tqdm.tqdm(dataloader)\n",
    "    else:\n",
    "        pbar = dataloader\n",
    "    for i, data in enumerate(pbar):\n",
    "        image = data[0].to(device)\n",
    "        answer_tokens = data[1].squeeze(0).to(device)\n",
    "        question_tokens = data[2].squeeze(0).to(device)\n",
    "        if dataloader.batch_size == 1:\n",
    "            correct_answer = int(data[3])\n",
    "        else:\n",
    "            correct_answer = [int(x) for x in data[3]]\n",
    "\n",
    "        with torch.no_grad():\n",
    "            similarity = model(image, question_tokens, answer_tokens)\n",
    "            pred = similarity.argmax(dim=-1).item()\n",
    "\n",
    "            if pred == correct_answer:\n",
    "                correct += 1\n",
    "    return correct/len(dataloader)\n"
   ]
  },
  {
   "cell_type": "code",
   "execution_count": 65,
   "metadata": {},
   "outputs": [
    {
     "name": "stderr",
     "output_type": "stream",
     "text": [
      "100%|██████████| 100/100 [00:02<00:00, 37.69it/s]\n"
     ]
    },
    {
     "data": {
      "text/plain": [
       "0.03"
      ]
     },
     "execution_count": 65,
     "metadata": {},
     "output_type": "execute_result"
    }
   ],
   "source": [
    "combined_model = VQA_Model2(model, device)\n",
    "evaluate(combined_model, test_dataloader, device, show_progress=True)"
   ]
  },
  {
   "cell_type": "markdown",
   "metadata": {},
   "source": [
    "## Training"
   ]
  },
  {
   "cell_type": "code",
   "execution_count": 66,
   "metadata": {},
   "outputs": [],
   "source": [
    "def train(model, train_dataloader, val_dataloader, device, epochs=10):\n",
    "    model.train()\n",
    "    print(model.parameters())\n",
    "    optimizer = torch.optim.Adam(model.parameters(), lr=1e-4)\n",
    "    loss_fn = torch.nn.CrossEntropyLoss()\n",
    "    pbar = tqdm.tqdm(range(epochs))\n",
    "    for epoch in pbar:\n",
    "        for i, data in enumerate(train_dataloader):\n",
    "\n",
    "            image = data[0].to(device)\n",
    "            answer_tokens = data[1].squeeze(0).to(device)\n",
    "            question_tokens = data[2].squeeze(0).to(device)\n",
    "            if train_dataloader.batch_size == 1:\n",
    "                correct_answer = int(data[3])\n",
    "            else:\n",
    "                correct_answer = [int(x) for x in data[3]]\n",
    "            \n",
    "            optimizer.zero_grad()\n",
    "            similarity = model(image, question_tokens, answer_tokens)\n",
    "\n",
    "            # transform asnwer to tensor of the same shape as similarity before only correct index\n",
    "            one_hot_encoding = torch.zeros(similarity.squeeze(0).shape[0])\n",
    "            one_hot_encoding[correct_answer] = 1\n",
    "            one_hot_encoding = one_hot_encoding.to(device)\n",
    "            \n",
    "\n",
    "            loss = loss_fn(similarity.squeeze(0), one_hot_encoding)\n",
    "            loss.backward()\n",
    "            torch.nn.utils.clip_grad_norm_(model.parameters(), max_norm=4.0, error_if_nonfinite=True)\n",
    "            optimizer.step()\n",
    "            #print(\"--------------------------------------------------\")\n",
    "        acc = evaluate(model, val_dataloader, device)\n",
    "        pbar.set_description(f\"Epoch {epoch} loss: {loss.item()}, acc: {acc}\")"
   ]
  },
  {
   "cell_type": "code",
   "execution_count": 67,
   "metadata": {},
   "outputs": [
    {
     "name": "stdout",
     "output_type": "stream",
     "text": [
      "<generator object Module.parameters at 0x0000017C3118E570>\n"
     ]
    },
    {
     "name": "stderr",
     "output_type": "stream",
     "text": [
      "Epoch 21 loss: 1.3447265625, acc: 0.25:  73%|███████▎  | 22/30 [03:28<01:15,  9.49s/it]  "
     ]
    }
   ],
   "source": [
    "trained_model = VQA_Model2(model, device)\n",
    "# freeze the clip model\n",
    "for param in trained_model.model.parameters():\n",
    "    param.requires_grad = False\n",
    "\n",
    "train(trained_model, train_dataloader, val_dataloader, device, epochs=30)\n",
    "\n",
    "# evaluate the model\n",
    "evaluate(trained_model, test_dataloader, device)"
   ]
  }
 ],
 "metadata": {
  "kernelspec": {
   "display_name": "Python 3",
   "language": "python",
   "name": "python3"
  },
  "language_info": {
   "codemirror_mode": {
    "name": "ipython",
    "version": 3
   },
   "file_extension": ".py",
   "mimetype": "text/x-python",
   "name": "python",
   "nbconvert_exporter": "python",
   "pygments_lexer": "ipython3",
   "version": "3.10.7"
  }
 },
 "nbformat": 4,
 "nbformat_minor": 2
}
