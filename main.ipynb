{
 "cells": [
  {
   "cell_type": "markdown",
   "metadata": {},
   "source": [
    "## Load the dataset\n"
   ]
  },
  {
   "cell_type": "code",
   "execution_count": 1,
   "metadata": {},
   "outputs": [
    {
     "name": "stderr",
     "output_type": "stream",
     "text": [
      "c:\\Users\\mr_pa\\AppData\\Local\\Programs\\Python\\Python310\\lib\\site-packages\\tqdm\\auto.py:21: TqdmWarning: IProgress not found. Please update jupyter and ipywidgets. See https://ipywidgets.readthedocs.io/en/stable/user_install.html\n",
      "  from .autonotebook import tqdm as notebook_tqdm\n"
     ]
    },
    {
     "name": "stdout",
     "output_type": "stream",
     "text": [
      "Using cuda device\n"
     ]
    },
    {
     "name": "stderr",
     "output_type": "stream",
     "text": [
      "Preprocessing Images: 100%|██████████| 200/200 [00:02<00:00, 87.12it/s]\n"
     ]
    }
   ],
   "source": [
    "from VQA_Dataset import VQA_Dataset\n",
    "import clip\n",
    "import torch\n",
    "from torch.utils.data import DataLoader\n",
    "\n",
    "device = \"cuda\" if torch.cuda.is_available() else \"cpu\"\n",
    "print(f\"Using {device} device\")\n",
    "model, preprocess = clip.load(\"ViT-B/32\", device=device)\n",
    "\n",
    "dataset = VQA_Dataset()\n",
    "dataset.load_all(preprocess, device, length=200)\n",
    "dataloader = DataLoader(dataset, batch_size=1, shuffle=False)"
   ]
  },
  {
   "cell_type": "markdown",
   "metadata": {},
   "source": [
    "## Simple model architectue\n"
   ]
  },
  {
   "cell_type": "code",
   "execution_count": 2,
   "metadata": {},
   "outputs": [],
   "source": [
    "import tqdm\n",
    "\n",
    "class VQA_Model(torch.nn.Module):\n",
    "    \"\"\"uses the model from clip like in evaluation method\"\"\"\n",
    "    def __init__(self, model, device):\n",
    "        super().__init__()\n",
    "        self.model = model\n",
    "        self.device = device\n",
    "\n",
    "    def forward(self, image, question_tokens, answer_tokens):\n",
    "        \"\"\"returns the logits for the answers\"\"\"\n",
    "        image_features = model.encode_image(image)\n",
    "        question_features = model.encode_text(question_tokens)\n",
    "        answer_features = model.encode_text(answer_tokens)\n",
    "        \n",
    "        answer_features /= answer_features.norm(dim=-1, keepdim=True)\n",
    "        \n",
    "        combined_features = image_features * question_features\n",
    "        combined_features /= combined_features.norm(dim=-1, keepdim=True)\n",
    "\n",
    "        similarity = (100.0 * combined_features @ answer_features.T).softmax(dim=-1)\n",
    "        return similarity\n",
    "\n",
    "    \n"
   ]
  },
  {
   "cell_type": "code",
   "execution_count": 26,
   "metadata": {},
   "outputs": [],
   "source": [
    "class VQA_Model2(torch.nn.Module):\n",
    "    \"\"\"architecture that uses clip and a small NN to combine question and image features to get a embedding of the same size as the answer embedding\n",
    "        Only train the NN, not the clip model\n",
    "    \"\"\"\n",
    "    def __init__(self, model, device):\n",
    "        super().__init__()\n",
    "        self.model = model\n",
    "        self.device = device\n",
    "        self.fc1 = torch.nn.Linear(1024, 512).to(self.device).to(torch.float16)\n",
    "        self.initialize_parameters()\n",
    "\n",
    "    def initialize_parameters(self):\n",
    "        # Apply Xavier/Glorot initialization to the linear layer\n",
    "        torch.nn.init.xavier_uniform_(self.fc1.weight)\n",
    "        torch.nn.init.zeros_(self.fc1.bias.data)\n",
    "\n",
    "    def forward(self, image, question_tokens, answer_tokens):\n",
    "\n",
    "        \"\"\"returns the logits for the answers\"\"\"\n",
    "        image_features = model.encode_image(image)\n",
    "        question_features = model.encode_text(question_tokens)\n",
    "        answer_features = model.encode_text(answer_tokens)\n",
    "        \n",
    "        answer_features /= answer_features.norm(dim=-1, keepdim=True)\n",
    "        \n",
    "        # concatenate the features\n",
    "        combined_features = torch.cat((image_features, question_features), dim=1).to(self.device)            \n",
    "        combined_features /= combined_features.norm(dim=-1, keepdim=True)\n",
    "        \n",
    "        combined_features = self.fc1(combined_features)\n",
    "\n",
    "        similarity = (100.0 * combined_features @ answer_features.T)# .softmax(dim=-1) no softmax because of cross entropy loss\n",
    "        return similarity"
   ]
  },
  {
   "cell_type": "markdown",
   "metadata": {},
   "source": [
    "## Evaluate"
   ]
  },
  {
   "cell_type": "code",
   "execution_count": 4,
   "metadata": {},
   "outputs": [],
   "source": [
    "import tqdm\n",
    "\n",
    "def evaluate(model, dataloader, device):\n",
    "    model.eval()\n",
    "    correct = 0\n",
    "    for i, data in enumerate(tqdm.tqdm(dataloader)):\n",
    "        image = data['image'].to(device)\n",
    "        question_tokens = data['question_tokens'].to(device)\n",
    "        answer_tokens = data['answer_tokens'].squeeze(0).to(device)\n",
    "        image_id = int(data['image_id'])\n",
    "        correct_answer = int(data['correct_answer'])\n",
    "\n",
    "        with torch.no_grad():\n",
    "            similarity = model(image, question_tokens, answer_tokens)\n",
    "            pred = similarity.argmax(dim=-1).item()\n",
    "\n",
    "            if pred == correct_answer:\n",
    "                correct += 1\n",
    "    print(f\"Accuracy: {correct / len(dataloader)} correct: {correct} total: {len(dataloader)}\")\n"
   ]
  },
  {
   "cell_type": "code",
   "execution_count": 5,
   "metadata": {},
   "outputs": [
    {
     "name": "stderr",
     "output_type": "stream",
     "text": [
      "100%|██████████| 200/200 [00:10<00:00, 18.91it/s]"
     ]
    },
    {
     "name": "stdout",
     "output_type": "stream",
     "text": [
      "Accuracy: 0.04 correct: 8 total: 200\n"
     ]
    },
    {
     "name": "stderr",
     "output_type": "stream",
     "text": [
      "\n"
     ]
    }
   ],
   "source": [
    "combined_model = VQA_Model(model, device)\n",
    "evaluate(combined_model, dataloader, device)"
   ]
  },
  {
   "cell_type": "markdown",
   "metadata": {},
   "source": [
    "## Training"
   ]
  },
  {
   "cell_type": "code",
   "execution_count": 24,
   "metadata": {},
   "outputs": [],
   "source": [
    "def train(model, dataloader, device, epochs=10):\n",
    "    model.train()\n",
    "    print(model.parameters())\n",
    "    optimizer = torch.optim.Adam(model.parameters(), lr=1e-7)\n",
    "    loss_fn = torch.nn.CrossEntropyLoss()\n",
    "    for epoch in range(epochs):\n",
    "        for i, data in enumerate(tqdm.tqdm(dataloader)):\n",
    "            image = data['image'].to(device)\n",
    "            question_tokens = data['question_tokens'].to(device)\n",
    "            answer_tokens = data['answer_tokens'].squeeze(0).to(device)\n",
    "            image_id = int(data['image_id'])\n",
    "            correct_answer = int(data['correct_answer'])\n",
    "\n",
    "            optimizer.zero_grad()\n",
    "            similarity = model(image, question_tokens, answer_tokens)\n",
    "\n",
    "            # transform asnwer to tensor of the same shape as similarity before only correct index\n",
    "            one_hot_encoding = torch.zeros(similarity.squeeze(0).shape[0])\n",
    "            one_hot_encoding[correct_answer] = 1\n",
    "            one_hot_encoding = one_hot_encoding.to(device)\n",
    "\n",
    "            loss = loss_fn(similarity.squeeze(0), one_hot_encoding)\n",
    "            loss.backward()\n",
    "            optimizer.step()\n",
    "            #print(\"--------------------------------------------------\")\n",
    "        print(f\"Epoch {epoch} loss: {loss.item()}\")\n",
    "        evaluate(model, dataloader, device)"
   ]
  },
  {
   "cell_type": "code",
   "execution_count": 27,
   "metadata": {},
   "outputs": [
    {
     "name": "stdout",
     "output_type": "stream",
     "text": [
      "<generator object Module.parameters at 0x0000015AB3F4BED0>\n"
     ]
    },
    {
     "name": "stderr",
     "output_type": "stream",
     "text": [
      "100%|██████████| 200/200 [00:05<00:00, 39.40it/s]\n"
     ]
    },
    {
     "name": "stdout",
     "output_type": "stream",
     "text": [
      "Epoch 0 loss: nan\n"
     ]
    },
    {
     "name": "stderr",
     "output_type": "stream",
     "text": [
      "100%|██████████| 200/200 [00:05<00:00, 38.49it/s]\n"
     ]
    },
    {
     "name": "stdout",
     "output_type": "stream",
     "text": [
      "Accuracy: 0.0 correct: 0 total: 200\n"
     ]
    },
    {
     "name": "stderr",
     "output_type": "stream",
     "text": [
      "100%|██████████| 200/200 [00:05<00:00, 36.47it/s]\n"
     ]
    },
    {
     "name": "stdout",
     "output_type": "stream",
     "text": [
      "Epoch 1 loss: nan\n"
     ]
    },
    {
     "name": "stderr",
     "output_type": "stream",
     "text": [
      "100%|██████████| 200/200 [00:05<00:00, 35.54it/s]\n"
     ]
    },
    {
     "name": "stdout",
     "output_type": "stream",
     "text": [
      "Accuracy: 0.0 correct: 0 total: 200\n"
     ]
    },
    {
     "name": "stderr",
     "output_type": "stream",
     "text": [
      "100%|██████████| 200/200 [00:05<00:00, 36.40it/s]"
     ]
    },
    {
     "name": "stdout",
     "output_type": "stream",
     "text": [
      "Accuracy: 0.0 correct: 0 total: 200\n"
     ]
    },
    {
     "name": "stderr",
     "output_type": "stream",
     "text": [
      "\n"
     ]
    }
   ],
   "source": [
    "trained_model = VQA_Model2(model, device)\n",
    "# freeze the clip model\n",
    "for param in trained_model.model.parameters():\n",
    "    param.requires_grad = False\n",
    "\n",
    "train(trained_model, dataloader, device, epochs=2)\n",
    "\n",
    "# evaluate the model\n",
    "evaluate(trained_model, dataloader, device)"
   ]
  }
 ],
 "metadata": {
  "kernelspec": {
   "display_name": "Python 3",
   "language": "python",
   "name": "python3"
  },
  "language_info": {
   "codemirror_mode": {
    "name": "ipython",
    "version": 3
   },
   "file_extension": ".py",
   "mimetype": "text/x-python",
   "name": "python",
   "nbconvert_exporter": "python",
   "pygments_lexer": "ipython3",
   "version": "3.10.7"
  }
 },
 "nbformat": 4,
 "nbformat_minor": 2
}
