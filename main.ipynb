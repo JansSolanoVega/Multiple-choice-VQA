{
 "cells": [
  {
   "cell_type": "markdown",
   "metadata": {},
   "source": [
    "## Load the dataset\n"
   ]
  },
  {
   "cell_type": "code",
   "execution_count": 1,
   "metadata": {},
   "outputs": [
    {
     "name": "stdout",
     "output_type": "stream",
     "text": [
      "Using cuda device\n",
      "Compose\n",
      "clip model loaded\n"
     ]
    }
   ],
   "source": [
    "from VQA_Datasetv2 import VQA_Dataset, VQA_Dataset_preloaded, VQA_Dataset_Sentences\n",
    "import clip\n",
    "import torch\n",
    "from torch.utils.data import DataLoader\n",
    "from torch.utils.data import random_split\n",
    "\n",
    "device = \"cuda\" if torch.cuda.is_available() else \"cpu\"\n",
    "print(f\"Using {device} device\")\n",
    "model, preprocess = clip.load(\"ViT-B/32\", device=device)\n",
    "print(preprocess.__class__.__name__)\n",
    "model.to(torch.float32)\n",
    "print(\"clip model loaded\")"
   ]
  },
  {
   "cell_type": "code",
   "execution_count": null,
   "metadata": {},
   "outputs": [],
   "source": [
    "print(model)"
   ]
  },
  {
   "cell_type": "markdown",
   "metadata": {},
   "source": [
    "## Choose one of the 3:"
   ]
  },
  {
   "cell_type": "markdown",
   "metadata": {},
   "source": [
    "### 1.Normal loading"
   ]
  },
  {
   "cell_type": "code",
   "execution_count": null,
   "metadata": {},
   "outputs": [],
   "source": [
    "loading = 1\n",
    "\n",
    "if loading < 3:\n",
    "    dataset = VQA_Dataset_Sentences()\n",
    "    \n",
    "if loading == 0:\n",
    "    dataset.load_preprocess(preprocess, device, length=30000)\n",
    "elif loading == 1:\n",
    "    dataset.load(preprocess, device, length=4)\n",
    "elif loading == 2:\n",
    "    dataset.load_encode(preprocess, device, model, length=100)\n",
    "    dataset.save(\"\")\n",
    "elif loading == 3:\n",
    "    dataset.load_saved(\"\")"
   ]
  },
  {
   "cell_type": "code",
   "execution_count": 22,
   "metadata": {},
   "outputs": [],
   "source": [
    "dataset_train = VQA_Dataset_Sentences()\n",
    "dataset_val = VQA_Dataset_Sentences()\n",
    "dataset_train.load(preprocess, device, length=32755)\n",
    "dataset_val.load(preprocess, device, name=\"val\", length=37501)"
   ]
  },
  {
   "cell_type": "markdown",
   "metadata": {},
   "source": [
    "### 2.Precalc"
   ]
  },
  {
   "cell_type": "code",
   "execution_count": 14,
   "metadata": {},
   "outputs": [
    {
     "name": "stderr",
     "output_type": "stream",
     "text": [
      "Preprocessing Images: 100%|██████████| 10000/10000 [12:30<00:00, 13.32it/s]\n",
      "Preprocessing Images: 100%|██████████| 10000/10000 [09:52<00:00, 16.87it/s]\n"
     ]
    }
   ],
   "source": [
    "dataset_train = VQA_Dataset_preloaded()\n",
    "dataset_val = VQA_Dataset_preloaded()\n",
    "dataset_train.compute_store(preprocess, model, device, \"scale_10000_\", length=10000, mode=\"scale\")# length=248348)\n",
    "dataset_val.compute_store(preprocess, model, device, \"scale_10000_\", name=\"val\", length=10000, mode=\"scale\") # length=121511 )"
   ]
  },
  {
   "cell_type": "markdown",
   "metadata": {},
   "source": [
    "### 3.Only load"
   ]
  },
  {
   "cell_type": "code",
   "execution_count": 2,
   "metadata": {},
   "outputs": [],
   "source": [
    "dataset_train = VQA_Dataset_preloaded()\n",
    "dataset_val = VQA_Dataset_preloaded()\n",
    "dataset_train.load(\"full_\", device, length=32755)# 248348)\n",
    "dataset_val.load(\"full_\", device, name=\"val\", length=37501)#121511)"
   ]
  },
  {
   "cell_type": "markdown",
   "metadata": {},
   "source": [
    "### Create Dataloader"
   ]
  },
  {
   "cell_type": "markdown",
   "metadata": {},
   "source": [
    "## New with both Validation and Training Datasets from MSCOCO"
   ]
  },
  {
   "cell_type": "code",
   "execution_count": 23,
   "metadata": {},
   "outputs": [
    {
     "name": "stdout",
     "output_type": "stream",
     "text": [
      "Train size:  32755\n",
      "Test size:  26251\n",
      "Val size:  11250\n"
     ]
    }
   ],
   "source": [
    "batch_size=2\n",
    "\n",
    "train_size = int(len(dataset_train))\n",
    "val_size = int(len(dataset_val)*0.3)\n",
    "test_size = int(len(dataset_val))-val_size\n",
    "print(\"Train size: \", train_size)\n",
    "print(\"Test size: \", test_size)\n",
    "print(\"Val size: \", val_size)\n",
    "generator = torch.Generator().manual_seed(42)\n",
    "test_dataset, val_dataset = random_split(dataset_val, [test_size, val_size], generator=generator)\n",
    "\n",
    "train_dataloader = DataLoader(dataset_train, batch_size=batch_size, shuffle=True)\n",
    "test_dataloader = DataLoader(test_dataset, batch_size=batch_size, shuffle=True)\n",
    "val_dataloader = DataLoader(val_dataset, batch_size=batch_size, shuffle=True)"
   ]
  },
  {
   "cell_type": "markdown",
   "metadata": {},
   "source": [
    "### Old"
   ]
  },
  {
   "cell_type": "code",
   "execution_count": 3,
   "metadata": {},
   "outputs": [
    {
     "name": "stdout",
     "output_type": "stream",
     "text": [
      "Train size:  19200\n",
      "Test size:  6000\n",
      "Val size:  4800\n"
     ]
    }
   ],
   "source": [
    "batch_size=2\n",
    "\n",
    "train_val_size = int(len(dataset)*0.8)\n",
    "train_size = int(len(dataset)*0.8*0.8)\n",
    "val_size = int(len(dataset)*0.8)-train_size\n",
    "test_size = int(len(dataset))-train_val_size\n",
    "print(\"Train size: \", train_size)\n",
    "print(\"Test size: \", test_size)\n",
    "print(\"Val size: \", val_size)\n",
    "generator = torch.Generator().manual_seed(42)\n",
    "train_dataset, test_dataset, val_dataset = random_split(dataset, [train_size, test_size, val_size], generator=generator)\n",
    "\n",
    "train_dataloader = DataLoader(train_dataset, batch_size=batch_size, shuffle=True)\n",
    "test_dataloader = DataLoader(test_dataset, batch_size=batch_size, shuffle=True)\n",
    "val_dataloader = DataLoader(val_dataset, batch_size=batch_size, shuffle=True)"
   ]
  },
  {
   "cell_type": "markdown",
   "metadata": {},
   "source": [
    "## Simple model architectue\n"
   ]
  },
  {
   "cell_type": "code",
   "execution_count": 24,
   "metadata": {},
   "outputs": [],
   "source": [
    "from models import VQA_Model3, VQA_Model2, VQA_Model_Precalc, VQA_Model4, VQA_Model_Blip, VQA_Model_Precalc_Zero, VQA_Model_Precalc_Text, VQA_Model_classify, VQA_Model_classify_v2, VQA_Model_classify_v3\n",
    "\n"
   ]
  },
  {
   "cell_type": "markdown",
   "metadata": {},
   "source": [
    "## Evaluate"
   ]
  },
  {
   "cell_type": "code",
   "execution_count": 25,
   "metadata": {},
   "outputs": [],
   "source": [
    "import tqdm\n",
    "\n",
    "def evaluate(model, dataloader, device, test_size, show_progress=False, score_each=False):\n",
    "    model.eval()\n",
    "    correct = 0\n",
    "    if show_progress:\n",
    "        pbar = tqdm.tqdm(dataloader)\n",
    "    else:\n",
    "        pbar = dataloader\n",
    "    for i, data in enumerate(pbar):\n",
    "        image = data[0].to(device)\n",
    "        answer_tokens = data[1].squeeze(0).to(device)\n",
    "        if dataloader.batch_size == 1:\n",
    "            correct_answer = torch.tensor([int(data[3])]).to(device)\n",
    "            question_tokens = data[2].squeeze(0).to(device)\n",
    "        else:\n",
    "            correct_answer = torch.tensor([int(x) for x in data[3]]).to(device)\n",
    "            question_tokens = data[2].squeeze(1).to(device)\n",
    "\n",
    "        with torch.no_grad():\n",
    "            if score_each:\n",
    "                # get similarity for each answer, not for each pair of batch\n",
    "                if len(answer_tokens.shape) == 2:\n",
    "                    answer_tokens = answer_tokens.unsqueeze(0)\n",
    "                similarity = torch.zeros((answer_tokens.shape[0], answer_tokens.shape[1])).to(device)\n",
    "                \n",
    "            \n",
    "                for answer in range(answer_tokens.shape[1]):\n",
    "                    \n",
    "                    similarity[:,answer] = model(image, question_tokens, answer_tokens[:, answer]).squeeze(1)\n",
    "                    \n",
    "                    \n",
    "                pred = similarity.argmax(dim=-1)\n",
    "                \n",
    "                # get sum of correct answers\n",
    "                correct += (pred == correct_answer).sum().item()\n",
    "\n",
    "            else:\n",
    "                similarity = model(image, question_tokens, answer_tokens)\n",
    "                pred = similarity.argmax(dim=-1)\n",
    "                # get sum of correct answers\n",
    "                correct += (pred == correct_answer).sum().item()\n",
    "    print(f\"Correct: {correct}, Total: {test_size}\")\n",
    "    return correct/(test_size)\n"
   ]
  },
  {
   "cell_type": "code",
   "execution_count": 6,
   "metadata": {},
   "outputs": [
    {
     "name": "stderr",
     "output_type": "stream",
     "text": [
      "100%|██████████| 42529/42529 [00:50<00:00, 846.64it/s]"
     ]
    },
    {
     "name": "stdout",
     "output_type": "stream",
     "text": [
      "Correct: 13649, Total: 85058\n"
     ]
    },
    {
     "name": "stderr",
     "output_type": "stream",
     "text": [
      "\n"
     ]
    },
    {
     "data": {
      "text/plain": [
       "0.16046697547555785"
      ]
     },
     "execution_count": 6,
     "metadata": {},
     "output_type": "execute_result"
    }
   ],
   "source": [
    "combined_model = VQA_Model_Precalc_Text(model, device)\n",
    "evaluate(combined_model, test_dataloader, device, test_size, show_progress=True)"
   ]
  },
  {
   "cell_type": "markdown",
   "metadata": {},
   "source": [
    "## Training"
   ]
  },
  {
   "cell_type": "code",
   "execution_count": 26,
   "metadata": {},
   "outputs": [],
   "source": [
    "\n",
    "from torch.optim import lr_scheduler\n",
    "\n",
    "def train(model, train_dataloader, val_dataloader, device, test_size, epochs=10, patience=3, precalculated=False, save_name=\"model\", loss_fn = torch.nn.CrossEntropyLoss()):\n",
    "    print(device)\n",
    "    model.train()\n",
    "    print(model.parameters())\n",
    "    optimizer = torch.optim.Adam(model.parameters(), lr=1e-3)\n",
    "    #scheduler = lr_scheduler.StepLR(optimizer, step_size=2, gamma=0.1)  # Adjust the step_size and gamma accordingly\n",
    "\n",
    "\n",
    "    \n",
    "    prev_acc = 0.0\n",
    "    best_acc = 0.0\n",
    "    count = 0\n",
    "    for epoch in range(epochs):\n",
    "        inner_bar = tqdm.tqdm(train_dataloader, desc='Batch', colour='green')\n",
    "        \n",
    "        for data in inner_bar:\n",
    "            \n",
    "            image = data[0].to(device)\n",
    "            answer_tokens = data[1].squeeze(0).to(device)\n",
    "            if train_dataloader.batch_size == 1:\n",
    "                correct_answer = torch.tensor(int(data[3])).to(device)\n",
    "                question_tokens = data[2].squeeze(0).to(device)\n",
    "            else:\n",
    "                correct_answer = torch.tensor([int(x) for x in data[3]]).to(device)\n",
    "                question_tokens = data[2].squeeze(1).to(device)\n",
    "            \n",
    "            if loss_fn._get_name() == 'CrossEntropyLoss':\n",
    "                similarity = model(image, question_tokens, answer_tokens)\n",
    "                loss = loss_fn(similarity, correct_answer)\n",
    "                optimizer.zero_grad()\n",
    "                loss.backward()\n",
    "                torch.nn.utils.clip_grad_norm_(model.parameters(), max_norm=4.0, error_if_nonfinite=True)\n",
    "                optimizer.step()\n",
    "            else:\n",
    "                for answer in range(answer_tokens.shape[1]):\n",
    "                    similarity = model(image, question_tokens, answer_tokens[:,answer]).squeeze(1)\n",
    "                    # create 0 or 1 for batch_size\n",
    "                    correct_similarity = torch.zeros(similarity.shape[0]).to(device)\n",
    "                    correct_similarity[correct_answer == answer] = 1\n",
    "                    loss = loss_fn(similarity, correct_similarity)\n",
    "                    optimizer.zero_grad()\n",
    "                    loss.backward()\n",
    "                    torch.nn.utils.clip_grad_norm_(model.parameters(), max_norm=4.0, error_if_nonfinite=True)\n",
    "                    optimizer.step()\n",
    "                    #print(\"--------------------------------------------------\")\n",
    "            # transform asnwer to tensor of the same shape as similarity before only correct index\n",
    "            #one_hot_encoding = torch.zeros(similarity.shape[1])\n",
    "            #one_hot_encoding[correct_answer] = 1\n",
    "            #one_hot_encoding = one_hot_encoding.to(device)\n",
    "            \n",
    "            \n",
    "            \n",
    "            #print(\"--------------------------------------------------\")\n",
    "        #scheduler.step()\n",
    "        if loss_fn._get_name() == 'CrossEntropyLoss':\n",
    "            acc = evaluate(model, val_dataloader, device,test_size)\n",
    "        else:\n",
    "            acc = evaluate(model, val_dataloader, device,test_size, score_each=True)\n",
    "        if acc > best_acc:\n",
    "            best_acc = acc\n",
    "            # save model\n",
    "            model.save(save_name)\n",
    "        if acc < prev_acc:\n",
    "            count += 1\n",
    "        else:\n",
    "            count = 0\n",
    "        prev_acc = acc\n",
    "        print(f\"Epoch {epoch} loss: {loss.item()}, acc: {acc}, patience: {count}\")\n",
    "        if count == patience:\n",
    "            print(\"early stopping\")\n",
    "            break \n",
    "        inner_bar.close()"
   ]
  },
  {
   "cell_type": "code",
   "execution_count": 27,
   "metadata": {},
   "outputs": [
    {
     "name": "stdout",
     "output_type": "stream",
     "text": [
      "cuda\n",
      "<generator object Module.parameters at 0x000001DB3D9615B0>\n"
     ]
    },
    {
     "name": "stderr",
     "output_type": "stream",
     "text": [
      "Batch: 100%|\u001b[32m██████████\u001b[0m| 16378/16378 [19:25<00:00, 14.05it/s]\n"
     ]
    },
    {
     "name": "stdout",
     "output_type": "stream",
     "text": [
      "Correct: 4691, Total: 11250\n",
      "Epoch 0 loss: 3.194977283477783, acc: 0.4169777777777778, patience: 0\n"
     ]
    },
    {
     "name": "stderr",
     "output_type": "stream",
     "text": [
      "Batch: 100%|\u001b[32m██████████\u001b[0m| 16378/16378 [19:08<00:00, 14.26it/s]\n"
     ]
    },
    {
     "name": "stdout",
     "output_type": "stream",
     "text": [
      "Correct: 5030, Total: 11250\n",
      "Epoch 1 loss: 0.030604954808950424, acc: 0.4471111111111111, patience: 0\n"
     ]
    },
    {
     "name": "stderr",
     "output_type": "stream",
     "text": [
      "Batch: 100%|\u001b[32m██████████\u001b[0m| 16378/16378 [18:46<00:00, 14.54it/s]\n"
     ]
    },
    {
     "name": "stdout",
     "output_type": "stream",
     "text": [
      "Correct: 5350, Total: 11250\n",
      "Epoch 2 loss: 2.133911371231079, acc: 0.47555555555555556, patience: 0\n"
     ]
    },
    {
     "name": "stderr",
     "output_type": "stream",
     "text": [
      "Batch: 100%|\u001b[32m██████████\u001b[0m| 16378/16378 [18:44<00:00, 14.56it/s]\n"
     ]
    },
    {
     "name": "stdout",
     "output_type": "stream",
     "text": [
      "Correct: 5331, Total: 11250\n",
      "Epoch 3 loss: 2.9170942306518555, acc: 0.47386666666666666, patience: 1\n"
     ]
    },
    {
     "name": "stderr",
     "output_type": "stream",
     "text": [
      "Batch: 100%|\u001b[32m██████████\u001b[0m| 16378/16378 [20:09<00:00, 13.55it/s]\n"
     ]
    },
    {
     "name": "stdout",
     "output_type": "stream",
     "text": [
      "Correct: 5411, Total: 11250\n",
      "Epoch 4 loss: 0.30235910415649414, acc: 0.4809777777777778, patience: 0\n"
     ]
    },
    {
     "name": "stderr",
     "output_type": "stream",
     "text": [
      "Batch: 100%|\u001b[32m██████████\u001b[0m| 16378/16378 [21:34<00:00, 12.66it/s]\n"
     ]
    },
    {
     "name": "stdout",
     "output_type": "stream",
     "text": [
      "Correct: 5460, Total: 11250\n",
      "Epoch 5 loss: 0.9560148119926453, acc: 0.48533333333333334, patience: 0\n"
     ]
    },
    {
     "name": "stderr",
     "output_type": "stream",
     "text": [
      "Batch: 100%|\u001b[32m██████████\u001b[0m| 16378/16378 [21:59<00:00, 12.42it/s]\n"
     ]
    },
    {
     "name": "stdout",
     "output_type": "stream",
     "text": [
      "Correct: 5482, Total: 11250\n",
      "Epoch 6 loss: 0.6638666987419128, acc: 0.4872888888888889, patience: 0\n"
     ]
    },
    {
     "name": "stderr",
     "output_type": "stream",
     "text": [
      "Batch: 100%|\u001b[32m██████████\u001b[0m| 16378/16378 [19:18<00:00, 14.14it/s]\n"
     ]
    },
    {
     "name": "stdout",
     "output_type": "stream",
     "text": [
      "Correct: 5459, Total: 11250\n",
      "Epoch 7 loss: 0.002350783674046397, acc: 0.4852444444444444, patience: 1\n"
     ]
    },
    {
     "name": "stderr",
     "output_type": "stream",
     "text": [
      "Batch: 100%|\u001b[32m██████████\u001b[0m| 16378/16378 [18:46<00:00, 14.54it/s]\n"
     ]
    },
    {
     "name": "stdout",
     "output_type": "stream",
     "text": [
      "Correct: 5383, Total: 11250\n",
      "Epoch 8 loss: 0.07377521693706512, acc: 0.4784888888888889, patience: 2\n"
     ]
    },
    {
     "name": "stderr",
     "output_type": "stream",
     "text": [
      "Batch: 100%|\u001b[32m██████████\u001b[0m| 16378/16378 [18:43<00:00, 14.57it/s]\n"
     ]
    },
    {
     "name": "stdout",
     "output_type": "stream",
     "text": [
      "Correct: 5327, Total: 11250\n",
      "Epoch 9 loss: 2.6910006999969482, acc: 0.4735111111111111, patience: 3\n",
      "early stopping\n",
      "Correct: 12524, Total: 26251\n"
     ]
    },
    {
     "data": {
      "text/plain": [
       "0.4770865871776313"
      ]
     },
     "execution_count": 27,
     "metadata": {},
     "output_type": "execute_result"
    },
    {
     "ename": "",
     "evalue": "",
     "output_type": "error",
     "traceback": [
      "\u001b[1;31mThe Kernel crashed while executing code in the the current cell or a previous cell. Please review the code in the cell(s) to identify a possible cause of the failure. Click <a href='https://aka.ms/vscodeJupyterKernelCrash'>here</a> for more info. View Jupyter <a href='command:jupyter.viewOutput'>log</a> for further details."
     ]
    }
   ],
   "source": [
    "import time\n",
    "\n",
    "trained_model = VQA_Model4(model, device)\n",
    "# freeze the clip model\n",
    "for param in trained_model.model.parameters():\n",
    "    param.requires_grad = False\n",
    "\n",
    "\n",
    "#evaluate(trained_model, test_dataloader, device, test_size, show_progress=True)\n",
    "train(trained_model, train_dataloader, val_dataloader, device, val_size, epochs=400, save_name=\"model_4_sentences_prec\")\n",
    "# evaluate the model\n",
    "evaluate(trained_model, test_dataloader, device, test_size)"
   ]
  },
  {
   "cell_type": "markdown",
   "metadata": {},
   "source": [
    "## Save the model!"
   ]
  },
  {
   "cell_type": "code",
   "execution_count": null,
   "metadata": {},
   "outputs": [],
   "source": [
    "# save the model\n",
    "trained_model.save(\"trained_model_\")"
   ]
  },
  {
   "cell_type": "markdown",
   "metadata": {},
   "source": [
    "## Load and evaluate\n"
   ]
  },
  {
   "cell_type": "code",
   "execution_count": 8,
   "metadata": {},
   "outputs": [
    {
     "name": "stderr",
     "output_type": "stream",
     "text": [
      "100%|██████████| 3000/3000 [00:43<00:00, 68.31it/s]"
     ]
    },
    {
     "name": "stdout",
     "output_type": "stream",
     "text": [
      "Correct: 2809, Total: 6000\n"
     ]
    },
    {
     "name": "stderr",
     "output_type": "stream",
     "text": [
      "\n"
     ]
    },
    {
     "data": {
      "text/plain": [
       "0.4681666666666667"
      ]
     },
     "execution_count": 8,
     "metadata": {},
     "output_type": "execute_result"
    }
   ],
   "source": [
    "#load and evaluate the model\n",
    "from models import VQA_Model4\n",
    "\n",
    "trained_model = VQA_Model_Precalc(model, device) # need to choose the same model!\n",
    "trained_model.load(\"best_model_\")\n",
    "#print(trained_model)\n",
    "evaluate(trained_model, test_dataloader, device, test_size, show_progress=True)"
   ]
  },
  {
   "cell_type": "code",
   "execution_count": null,
   "metadata": {},
   "outputs": [
    {
     "data": {
      "text/plain": [
       "'\\nimport clip\\nfrom PIL import Image\\nimport torch\\n\\nfor model_name in clip.available_models():\\n    device = \"cuda\" if torch.cuda.is_available() else \"cpu\"\\n    print(f\"Using {device} device and model: {model_name}\")\\n    model, preprocess = clip.load(model_name, device=device)\\n    model.to(torch.float32)\\n    text_tokens = clip.tokenize([\"question_text\"]).to(device)\\n    image = preprocess(Image.open(\"CLIP.jpg\")).unsqueeze(0).to(device)\\n    image_features = model.encode_image(image)\\n    text_features = model.encode_text(text_tokens)\\n    print(f\"text_t {text_tokens.dtype}, text_f {text_features.dtype}, image_t {image.dtype}, image_f {image_features.dtype}\")\\n    '"
      ]
     },
     "execution_count": 8,
     "metadata": {},
     "output_type": "execute_result"
    }
   ],
   "source": [
    "\"\"\"\n",
    "import clip\n",
    "from PIL import Image\n",
    "import torch\n",
    "\n",
    "for model_name in clip.available_models():\n",
    "    device = \"cuda\" if torch.cuda.is_available() else \"cpu\"\n",
    "    print(f\"Using {device} device and model: {model_name}\")\n",
    "    model, preprocess = clip.load(model_name, device=device)\n",
    "    model.to(torch.float32)\n",
    "    text_tokens = clip.tokenize([\"question_text\"]).to(device)\n",
    "    image = preprocess(Image.open(\"CLIP.jpg\")).unsqueeze(0).to(device)\n",
    "    image_features = model.encode_image(image)\n",
    "    text_features = model.encode_text(text_tokens)\n",
    "    print(f\"text_t {text_tokens.dtype}, text_f {text_features.dtype}, image_t {image.dtype}, image_f {image_features.dtype}\")\n",
    "    \"\"\"\n"
   ]
  }
 ],
 "metadata": {
  "kernelspec": {
   "display_name": "Python 3",
   "language": "python",
   "name": "python3"
  },
  "language_info": {
   "codemirror_mode": {
    "name": "ipython",
    "version": 3
   },
   "file_extension": ".py",
   "mimetype": "text/x-python",
   "name": "python",
   "nbconvert_exporter": "python",
   "pygments_lexer": "ipython3",
   "version": "3.9.6"
  }
 },
 "nbformat": 4,
 "nbformat_minor": 2
}
